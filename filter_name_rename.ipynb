{
  "cells": [
    {
      "cell_type": "markdown",
      "metadata": {
        "id": "view-in-github",
        "colab_type": "text"
      },
      "source": [
        "<a href=\"https://colab.research.google.com/github/haoboooo/Robustness-of-MRC-Models-to-Entity-Renaming/blob/main/filter_name_rename.ipynb\" target=\"_parent\"><img src=\"https://colab.research.google.com/assets/colab-badge.svg\" alt=\"Open In Colab\"/></a>"
      ]
    },
    {
      "cell_type": "markdown",
      "metadata": {
        "id": "IDaiPvLUKu8E"
      },
      "source": [
        "# 1 using flair to tag sentences"
      ]
    },
    {
      "cell_type": "code",
      "source": [
        "from google.colab import drive\n",
        "drive.mount('/content/drive')"
      ],
      "metadata": {
        "colab": {
          "base_uri": "https://localhost:8080/"
        },
        "id": "L0p49vl9XgqF",
        "outputId": "ae3a6bfd-e5a5-475b-c9b0-1b80783e47c2"
      },
      "execution_count": 29,
      "outputs": [
        {
          "output_type": "stream",
          "name": "stdout",
          "text": [
            "Mounted at /content/drive\n"
          ]
        }
      ]
    },
    {
      "cell_type": "code",
      "source": [
        "!pip install flair"
      ],
      "metadata": {
        "id": "I4rmVmpcKxPF",
        "colab": {
          "base_uri": "https://localhost:8080/"
        },
        "outputId": "282949bc-d673-486f-a13e-05b97faa2dd0"
      },
      "execution_count": 3,
      "outputs": [
        {
          "output_type": "stream",
          "name": "stdout",
          "text": [
            "Requirement already satisfied: flair in /usr/local/lib/python3.7/dist-packages (0.11.1)\n",
            "Requirement already satisfied: transformers>=4.0.0 in /usr/local/lib/python3.7/dist-packages (from flair) (4.18.0)\n",
            "Requirement already satisfied: lxml in /usr/local/lib/python3.7/dist-packages (from flair) (4.2.6)\n",
            "Requirement already satisfied: huggingface-hub in /usr/local/lib/python3.7/dist-packages (from flair) (0.5.1)\n",
            "Requirement already satisfied: python-dateutil>=2.6.1 in /usr/local/lib/python3.7/dist-packages (from flair) (2.8.2)\n",
            "Requirement already satisfied: torch!=1.8,>=1.5.0 in /usr/local/lib/python3.7/dist-packages (from flair) (1.10.0+cu111)\n",
            "Requirement already satisfied: langdetect in /usr/local/lib/python3.7/dist-packages (from flair) (1.0.9)\n",
            "Requirement already satisfied: gensim>=3.4.0 in /usr/local/lib/python3.7/dist-packages (from flair) (3.6.0)\n",
            "Requirement already satisfied: tabulate in /usr/local/lib/python3.7/dist-packages (from flair) (0.8.9)\n",
            "Requirement already satisfied: ftfy in /usr/local/lib/python3.7/dist-packages (from flair) (6.1.1)\n",
            "Requirement already satisfied: bpemb>=0.3.2 in /usr/local/lib/python3.7/dist-packages (from flair) (0.3.3)\n",
            "Requirement already satisfied: tqdm>=4.26.0 in /usr/local/lib/python3.7/dist-packages (from flair) (4.63.0)\n",
            "Requirement already satisfied: sentencepiece==0.1.95 in /usr/local/lib/python3.7/dist-packages (from flair) (0.1.95)\n",
            "Requirement already satisfied: more-itertools~=8.8.0 in /usr/local/lib/python3.7/dist-packages (from flair) (8.8.0)\n",
            "Requirement already satisfied: segtok>=1.5.7 in /usr/local/lib/python3.7/dist-packages (from flair) (1.5.11)\n",
            "Requirement already satisfied: matplotlib>=2.2.3 in /usr/local/lib/python3.7/dist-packages (from flair) (3.2.2)\n",
            "Requirement already satisfied: pptree in /usr/local/lib/python3.7/dist-packages (from flair) (3.1)\n",
            "Requirement already satisfied: wikipedia-api in /usr/local/lib/python3.7/dist-packages (from flair) (0.5.4)\n",
            "Requirement already satisfied: sqlitedict>=1.6.0 in /usr/local/lib/python3.7/dist-packages (from flair) (2.0.0)\n",
            "Requirement already satisfied: janome in /usr/local/lib/python3.7/dist-packages (from flair) (0.4.2)\n",
            "Requirement already satisfied: gdown==3.12.2 in /usr/local/lib/python3.7/dist-packages (from flair) (3.12.2)\n",
            "Requirement already satisfied: regex in /usr/local/lib/python3.7/dist-packages (from flair) (2019.12.20)\n",
            "Requirement already satisfied: konoha<5.0.0,>=4.0.0 in /usr/local/lib/python3.7/dist-packages (from flair) (4.6.5)\n",
            "Requirement already satisfied: deprecated>=1.2.4 in /usr/local/lib/python3.7/dist-packages (from flair) (1.2.13)\n",
            "Requirement already satisfied: hyperopt>=0.2.7 in /usr/local/lib/python3.7/dist-packages (from flair) (0.2.7)\n",
            "Requirement already satisfied: mpld3==0.3 in /usr/local/lib/python3.7/dist-packages (from flair) (0.3)\n",
            "Requirement already satisfied: conllu>=4.0 in /usr/local/lib/python3.7/dist-packages (from flair) (4.4.1)\n",
            "Requirement already satisfied: scikit-learn>=0.21.3 in /usr/local/lib/python3.7/dist-packages (from flair) (1.0.2)\n",
            "Requirement already satisfied: six in /usr/local/lib/python3.7/dist-packages (from gdown==3.12.2->flair) (1.15.0)\n",
            "Requirement already satisfied: filelock in /usr/local/lib/python3.7/dist-packages (from gdown==3.12.2->flair) (3.6.0)\n",
            "Requirement already satisfied: requests[socks] in /usr/local/lib/python3.7/dist-packages (from gdown==3.12.2->flair) (2.27.1)\n",
            "Requirement already satisfied: numpy in /usr/local/lib/python3.7/dist-packages (from bpemb>=0.3.2->flair) (1.21.5)\n",
            "Requirement already satisfied: wrapt<2,>=1.10 in /usr/local/lib/python3.7/dist-packages (from deprecated>=1.2.4->flair) (1.14.0)\n",
            "Requirement already satisfied: smart-open>=1.2.1 in /usr/local/lib/python3.7/dist-packages (from gensim>=3.4.0->flair) (5.2.1)\n",
            "Requirement already satisfied: scipy>=0.18.1 in /usr/local/lib/python3.7/dist-packages (from gensim>=3.4.0->flair) (1.4.1)\n",
            "Requirement already satisfied: future in /usr/local/lib/python3.7/dist-packages (from hyperopt>=0.2.7->flair) (0.16.0)\n",
            "Requirement already satisfied: networkx>=2.2 in /usr/local/lib/python3.7/dist-packages (from hyperopt>=0.2.7->flair) (2.6.3)\n",
            "Requirement already satisfied: py4j in /usr/local/lib/python3.7/dist-packages (from hyperopt>=0.2.7->flair) (0.10.9.5)\n",
            "Requirement already satisfied: cloudpickle in /usr/local/lib/python3.7/dist-packages (from hyperopt>=0.2.7->flair) (1.3.0)\n",
            "Requirement already satisfied: overrides<4.0.0,>=3.0.0 in /usr/local/lib/python3.7/dist-packages (from konoha<5.0.0,>=4.0.0->flair) (3.1.0)\n",
            "Requirement already satisfied: importlib-metadata<4.0.0,>=3.7.0 in /usr/local/lib/python3.7/dist-packages (from konoha<5.0.0,>=4.0.0->flair) (3.10.1)\n",
            "Requirement already satisfied: zipp>=0.5 in /usr/local/lib/python3.7/dist-packages (from importlib-metadata<4.0.0,>=3.7.0->konoha<5.0.0,>=4.0.0->flair) (3.7.0)\n",
            "Requirement already satisfied: typing-extensions>=3.6.4 in /usr/local/lib/python3.7/dist-packages (from importlib-metadata<4.0.0,>=3.7.0->konoha<5.0.0,>=4.0.0->flair) (3.10.0.2)\n",
            "Requirement already satisfied: kiwisolver>=1.0.1 in /usr/local/lib/python3.7/dist-packages (from matplotlib>=2.2.3->flair) (1.4.0)\n",
            "Requirement already satisfied: pyparsing!=2.0.4,!=2.1.2,!=2.1.6,>=2.0.1 in /usr/local/lib/python3.7/dist-packages (from matplotlib>=2.2.3->flair) (3.0.7)\n",
            "Requirement already satisfied: cycler>=0.10 in /usr/local/lib/python3.7/dist-packages (from matplotlib>=2.2.3->flair) (0.11.0)\n",
            "Requirement already satisfied: urllib3<1.27,>=1.21.1 in /usr/local/lib/python3.7/dist-packages (from requests[socks]->gdown==3.12.2->flair) (1.24.3)\n",
            "Requirement already satisfied: charset-normalizer~=2.0.0 in /usr/local/lib/python3.7/dist-packages (from requests[socks]->gdown==3.12.2->flair) (2.0.12)\n",
            "Requirement already satisfied: certifi>=2017.4.17 in /usr/local/lib/python3.7/dist-packages (from requests[socks]->gdown==3.12.2->flair) (2021.10.8)\n",
            "Requirement already satisfied: idna<4,>=2.5 in /usr/local/lib/python3.7/dist-packages (from requests[socks]->gdown==3.12.2->flair) (2.10)\n",
            "Requirement already satisfied: joblib>=0.11 in /usr/local/lib/python3.7/dist-packages (from scikit-learn>=0.21.3->flair) (1.1.0)\n",
            "Requirement already satisfied: threadpoolctl>=2.0.0 in /usr/local/lib/python3.7/dist-packages (from scikit-learn>=0.21.3->flair) (3.1.0)\n",
            "Requirement already satisfied: pyyaml>=5.1 in /usr/local/lib/python3.7/dist-packages (from transformers>=4.0.0->flair) (6.0)\n",
            "Requirement already satisfied: packaging>=20.0 in /usr/local/lib/python3.7/dist-packages (from transformers>=4.0.0->flair) (21.3)\n",
            "Requirement already satisfied: tokenizers!=0.11.3,<0.13,>=0.11.1 in /usr/local/lib/python3.7/dist-packages (from transformers>=4.0.0->flair) (0.11.6)\n",
            "Requirement already satisfied: sacremoses in /usr/local/lib/python3.7/dist-packages (from transformers>=4.0.0->flair) (0.0.49)\n",
            "Requirement already satisfied: wcwidth>=0.2.5 in /usr/local/lib/python3.7/dist-packages (from ftfy->flair) (0.2.5)\n",
            "Requirement already satisfied: PySocks!=1.5.7,>=1.5.6 in /usr/local/lib/python3.7/dist-packages (from requests[socks]->gdown==3.12.2->flair) (1.7.1)\n",
            "Requirement already satisfied: click in /usr/local/lib/python3.7/dist-packages (from sacremoses->transformers>=4.0.0->flair) (7.1.2)\n"
          ]
        }
      ]
    },
    {
      "cell_type": "code",
      "execution_count": 82,
      "metadata": {
        "id": "aH-gZZYqKu8M"
      },
      "outputs": [],
      "source": [
        "from flair.data import Sentence\n",
        "from flair.models import SequenceTagger\n",
        "import random"
      ]
    },
    {
      "cell_type": "code",
      "execution_count": 5,
      "metadata": {
        "id": "GS5SLok9Ku8R",
        "outputId": "e3ed1ecf-7025-4cea-a56f-32850435e9dc",
        "colab": {
          "base_uri": "https://localhost:8080/",
          "height": 106,
          "referenced_widgets": [
            "328afe6a1437438a8fbaf7d0044d92b3",
            "20f0341c279d4111952a971844f4f2a1",
            "7ea64b8a32cc42be83fd5eb2c368c451",
            "8e7e377108e545b28e4eac222618f3f6",
            "1c586b5e33434d5b83ed8e0fe9646602",
            "fd77dc909b224e798abbbfe3f34ef04f",
            "cea64dd1f1934de78634208a078d7858",
            "0205e08c92a2469ea5cf7da2f5530fb9",
            "75bc4be7c4834eb198db875212606dcd",
            "7a84e02feb3e4220ad09cf954cfe6777",
            "609fdeda9e0845b185f2d979d348f9d6"
          ]
        }
      },
      "outputs": [
        {
          "output_type": "display_data",
          "data": {
            "text/plain": [
              "Downloading:   0%|          | 0.00/432M [00:00<?, ?B/s]"
            ],
            "application/vnd.jupyter.widget-view+json": {
              "version_major": 2,
              "version_minor": 0,
              "model_id": "328afe6a1437438a8fbaf7d0044d92b3"
            }
          },
          "metadata": {}
        },
        {
          "output_type": "stream",
          "name": "stdout",
          "text": [
            "2022-04-10 20:34:28,059 loading file /root/.flair/models/ner-english/4f4cdab26f24cb98b732b389e6cebc646c36f54cfd6e0b7d3b90b25656e4262f.8baa8ae8795f4df80b28e7f7b61d788ecbb057d1dc85aacb316f1bd02837a4a4\n",
            "2022-04-10 20:34:30,828 SequenceTagger predicts: Dictionary with 20 tags: <unk>, O, S-ORG, S-MISC, B-PER, E-PER, S-LOC, B-ORG, E-ORG, I-PER, S-PER, B-MISC, I-MISC, E-MISC, I-ORG, B-LOC, E-LOC, I-LOC, <START>, <STOP>\n"
          ]
        }
      ],
      "source": [
        "sentence = Sentence('I love Berlin, Lucia.') # create a sentence\n",
        "tagger = SequenceTagger.load('ner') # load the NER tagger\n",
        "tagger.predict(sentence) # run NER over the sentence"
      ]
    },
    {
      "cell_type": "code",
      "execution_count": 11,
      "metadata": {
        "id": "N2WUM2-SKu8S",
        "outputId": "c209193c-9153-46e2-a931-29aa09655449",
        "colab": {
          "base_uri": "https://localhost:8080/"
        }
      },
      "outputs": [
        {
          "output_type": "stream",
          "name": "stdout",
          "text": [
            "Sentence: \"I love Berlin , Lucia .\" → [\"Berlin\"/LOC, \"Lucia\"/LOC]\n",
            "Span[2:3]: \"Berlin\" → LOC (0.9968)\n",
            "Span[4:5]: \"Lucia\" → LOC (0.8008)\n"
          ]
        }
      ],
      "source": [
        "print(sentence)\n",
        "for entity in sentence.get_spans('ner'): # iterate over entities and print each\n",
        "    print(entity)"
      ]
    },
    {
      "cell_type": "markdown",
      "metadata": {
        "id": "lBDTwXrMKu8T"
      },
      "source": [
        "    convert the sentence after prediction to dictionary and access the labels"
      ]
    },
    {
      "cell_type": "code",
      "execution_count": 15,
      "metadata": {
        "id": "PzHgzJq-Ku8T",
        "outputId": "0fb86a8a-d1b9-4066-b4dc-662803fc9867",
        "colab": {
          "base_uri": "https://localhost:8080/"
        }
      },
      "outputs": [
        {
          "output_type": "stream",
          "name": "stdout",
          "text": [
            "{'text': 'I love Berlin, Lucia.', 'ner': [{'value': 'LOC', 'confidence': 0.9967647790908813}, {'value': 'LOC', 'confidence': 0.8007730841636658}]}\n"
          ]
        }
      ],
      "source": [
        "print(sentence.to_dict(tag_type='ner'))"
      ]
    },
    {
      "cell_type": "code",
      "source": [
        "for label in sentence.labels:\n",
        "    print(label) # flair label type\n",
        "for label in sentence.get_labels('ner'):\n",
        "    print(label)"
      ],
      "metadata": {
        "colab": {
          "base_uri": "https://localhost:8080/"
        },
        "id": "0c6Y85_uPfsZ",
        "outputId": "e94fc8ea-a803-4649-d9bb-c532ab3adad6"
      },
      "execution_count": 19,
      "outputs": [
        {
          "output_type": "stream",
          "name": "stdout",
          "text": [
            "Span[2:3]: \"Berlin\" → LOC (0.9968)\n",
            "Span[4:5]: \"Lucia\" → LOC (0.8008)\n",
            "Span[2:3]: \"Berlin\" → LOC (0.9968)\n",
            "Span[4:5]: \"Lucia\" → LOC (0.8008)\n"
          ]
        }
      ]
    },
    {
      "cell_type": "code",
      "execution_count": 21,
      "metadata": {
        "id": "ntJ2LSkYKu8U",
        "colab": {
          "base_uri": "https://localhost:8080/"
        },
        "outputId": "2f7706c9-6b41-438d-b492-65ea36560d5d"
      },
      "outputs": [
        {
          "output_type": "stream",
          "name": "stdout",
          "text": [
            "{'text': 'I love Berlin, Lucia.', 'ner': [{'value': 'LOC', 'confidence': 0.9967647790908813}, {'value': 'LOC', 'confidence': 0.8007730841636658}]}\n"
          ]
        }
      ],
      "source": [
        "entities = sentence.to_dict(tag_type='ner')\n",
        "print(entities)"
      ]
    },
    {
      "cell_type": "code",
      "source": [
        "sentence = Sentence('George Washington went to Washington.')\n",
        "\n",
        "# predict NER tags\n",
        "tagger.predict(sentence)\n",
        "\n",
        "# print sentence with predicted tags\n",
        "print(sentence)"
      ],
      "metadata": {
        "colab": {
          "base_uri": "https://localhost:8080/"
        },
        "id": "iHpoVWvBSCeX",
        "outputId": "81878f58-5f5f-47f9-d6f0-1e74ced903ee"
      },
      "execution_count": 22,
      "outputs": [
        {
          "output_type": "stream",
          "name": "stdout",
          "text": [
            "Sentence: \"George Washington went to Washington .\" → [\"George Washington\"/PER, \"Washington\"/LOC]\n"
          ]
        }
      ]
    },
    {
      "cell_type": "code",
      "source": [
        "for entity in sentence.get_spans('ner'):\n",
        "    print(entity)"
      ],
      "metadata": {
        "colab": {
          "base_uri": "https://localhost:8080/"
        },
        "id": "0ByKBizASNSd",
        "outputId": "d509fa4f-5c2c-4b72-89be-7f9057b029bf"
      },
      "execution_count": 23,
      "outputs": [
        {
          "output_type": "stream",
          "name": "stdout",
          "text": [
            "Span[0:2]: \"George Washington\" → PER (0.9989)\n",
            "Span[4:5]: \"Washington\" → LOC (0.9942)\n"
          ]
        }
      ]
    },
    {
      "cell_type": "code",
      "source": [
        "# iterate over each entity\n",
        "for entity in sentence.get_spans('ner'):\n",
        "    \n",
        "    # print entity text, start_position and end_position\n",
        "    print(f'entity.text is: \"{entity.text}\"')\n",
        "    print(f'entity.start_position is: \"{entity.start_position}\"')\n",
        "    print(f'entity.end_position is: \"{entity.end_position}\"')\n",
        "    \n",
        "    # also print the value and score of its \"ner\"-label\n",
        "    print(f'entity \"ner\"-label value is: \"{entity.get_label(\"ner\").value}\"')\n",
        "    print(f'entity \"ner\"-label score is: \"{entity.get_label(\"ner\").score}\"\\n')"
      ],
      "metadata": {
        "colab": {
          "base_uri": "https://localhost:8080/"
        },
        "id": "Ooz2IrFjSZ0G",
        "outputId": "dadd371b-b7ba-41b3-e12f-53ce0ac0e901"
      },
      "execution_count": 24,
      "outputs": [
        {
          "output_type": "stream",
          "name": "stdout",
          "text": [
            "entity.text is: \"George Washington\"\n",
            "entity.start_position is: \"0\"\n",
            "entity.end_position is: \"17\"\n",
            "entity \"ner\"-label value is: \"PER\"\n",
            "entity \"ner\"-label score is: \"0.9988862872123718\"\n",
            "\n",
            "entity.text is: \"Washington\"\n",
            "entity.start_position is: \"26\"\n",
            "entity.end_position is: \"36\"\n",
            "entity \"ner\"-label value is: \"LOC\"\n",
            "entity \"ner\"-label score is: \"0.9942096471786499\"\n",
            "\n"
          ]
        }
      ]
    },
    {
      "cell_type": "code",
      "source": [
        "from flair.models import SequenceTagger\n",
        "from flair.tokenization import SegtokSentenceSplitter\n",
        "\n",
        "# example text with many sentences\n",
        "text = \"This is a sentence. This is another sentence. I love Berlin.\"\n",
        "\n",
        "# initialize sentence splitter\n",
        "splitter = SegtokSentenceSplitter()\n",
        "\n",
        "# use splitter to split text into list of sentences\n",
        "sentences = splitter.split(text)\n",
        "\n",
        "# predict tags for sentences\n",
        "tagger = SequenceTagger.load('ner')\n",
        "tagger.predict(sentences)\n",
        "\n",
        "# iterate through sentences and print predicted labels\n",
        "for sentence in sentences:\n",
        "    print(sentence)"
      ],
      "metadata": {
        "colab": {
          "base_uri": "https://localhost:8080/"
        },
        "id": "f3pT-eHiS31t",
        "outputId": "50e2a00a-2b3a-4f19-8605-acf6a728dd1e"
      },
      "execution_count": 25,
      "outputs": [
        {
          "output_type": "stream",
          "name": "stdout",
          "text": [
            "2022-04-10 21:05:14,597 loading file /root/.flair/models/ner-english/4f4cdab26f24cb98b732b389e6cebc646c36f54cfd6e0b7d3b90b25656e4262f.8baa8ae8795f4df80b28e7f7b61d788ecbb057d1dc85aacb316f1bd02837a4a4\n",
            "2022-04-10 21:05:16,570 SequenceTagger predicts: Dictionary with 20 tags: <unk>, O, S-ORG, S-MISC, B-PER, E-PER, S-LOC, B-ORG, E-ORG, I-PER, S-PER, B-MISC, I-MISC, E-MISC, I-ORG, B-LOC, E-LOC, I-LOC, <START>, <STOP>\n",
            "Sentence: \"This is a sentence .\"\n",
            "Sentence: \"This is another sentence .\"\n",
            "Sentence: \"I love Berlin .\" → [\"Berlin\"/LOC]\n"
          ]
        }
      ]
    },
    {
      "cell_type": "markdown",
      "metadata": {
        "id": "7RCSgOZBKu8X"
      },
      "source": [
        "# 2 access to the squad1 data"
      ]
    },
    {
      "cell_type": "markdown",
      "metadata": {
        "id": "UIR8La05Ku8Y"
      },
      "source": [
        "    define a squad example"
      ]
    },
    {
      "cell_type": "code",
      "execution_count": 30,
      "metadata": {
        "id": "Bs_UCpUSKu8Y"
      },
      "outputs": [],
      "source": [
        "class SquadExample(object):\n",
        "    \"\"\"\n",
        "    A single training/test example for the Squad dataset.\n",
        "    For examples without an answer, the start and end position are -1.\n",
        "    \"\"\"\n",
        "\n",
        "    def __init__(self,\n",
        "                 qas_id,\n",
        "                 question_text,\n",
        "                 doc_tokens,\n",
        "                 orig_answer_text=None,\n",
        "                 start_position=None,\n",
        "                 end_position=None,\n",
        "                 is_impossible=None):\n",
        "        self.qas_id = qas_id\n",
        "        self.question_text = question_text\n",
        "        self.doc_tokens = doc_tokens\n",
        "        self.orig_answer_text = orig_answer_text\n",
        "        self.start_position = start_position\n",
        "        self.end_position = end_position\n",
        "        self.is_impossible = is_impossible"
      ]
    },
    {
      "cell_type": "markdown",
      "metadata": {
        "id": "IkRaZXbBKu8Z"
      },
      "source": [
        "    load data from json, and store each qa into an example instance"
      ]
    },
    {
      "cell_type": "code",
      "execution_count": 48,
      "metadata": {
        "id": "eUR90cLVKu8a"
      },
      "outputs": [],
      "source": [
        "import json\n",
        "with open('./drive/MyDrive/Colab Notebooks/544_project/dev-v1.1.json',\"r\", encoding='utf-8') as reader:\n",
        "    input_data = json.load(reader)[\"data\"]\n",
        "def is_whitespace(c):\n",
        "    if c == \" \" or c == \"\\t\" or c == \"\\r\" or c == \"\\n\" or ord(c) == 0x202F:\n",
        "        return True\n",
        "    return False\n",
        "\n",
        "def whitespace_tokenize(text):\n",
        "    \"\"\"Runs basic whitespace cleaning and splitting on a piece of text.\"\"\"\n",
        "    text = text.strip()\n",
        "    if not text:\n",
        "        return []\n",
        "    tokens = text.split()\n",
        "    return tokens   \n"
      ]
    },
    {
      "cell_type": "code",
      "source": [
        "# input_data ->list, input_data[0][\"paragraphs\"]->content list, input_data[0][\"paragraphs\"][0]->dic: context,qas, \n",
        "# input_data[0][\"paragraphs\"][0][\"qas\"] -> list of qas, input_data[0][\"paragraphs\"][0][\"qas\"][0] -> dic answers(list of same aws), question(string), id\n",
        "print(input_data[0][\"paragraphs\"][0][\"qas\"][1])"
      ],
      "metadata": {
        "colab": {
          "base_uri": "https://localhost:8080/"
        },
        "id": "h4uH3KmcbUCg",
        "outputId": "b742a00c-a55e-4479-f53e-ef13c72eebbd"
      },
      "execution_count": 84,
      "outputs": [
        {
          "output_type": "stream",
          "name": "stdout",
          "text": [
            "{'answers': [{'answer_start': 249, 'text': 'Carolina Panthers'}, {'answer_start': 249, 'text': 'Carolina Panthers'}, {'answer_start': 249, 'text': 'Carolina Panthers'}], 'question': 'Which NFL team represented the NFC at Super Bowl 50?', 'id': '56be4db0acb8001400a502ed'}\n"
          ]
        }
      ]
    },
    {
      "cell_type": "code",
      "execution_count": 78,
      "metadata": {
        "id": "3z9dLZTMKu8d"
      },
      "outputs": [],
      "source": [
        "examples = []\n",
        "for entry in input_data[:2]:\n",
        "    for paragraph in entry[\"paragraphs\"][:2]:\n",
        "        paragraph_text = paragraph[\"context\"] # context paragraph\n",
        "        # print(paragraph_text)\n",
        "\n",
        "        doc_tokens = []\n",
        "        char_to_word_offset = []\n",
        "        prev_is_whitespace = True\n",
        "\n",
        "        # tokenizer the context\n",
        "        for c in paragraph_text:\n",
        "            if is_whitespace(c):\n",
        "                prev_is_whitespace = True\n",
        "            else:\n",
        "                if prev_is_whitespace:\n",
        "                    doc_tokens.append(c)\n",
        "                else:\n",
        "                    doc_tokens[-1] += c\n",
        "                prev_is_whitespace = False\n",
        "            char_to_word_offset.append(len(doc_tokens) - 1)\n",
        "        # print(doc_tokens) # tokenized tokens\n",
        "        # print(char_to_word_offset) # index to tokens\n",
        "\n",
        "\n",
        "        for qa in paragraph[\"qas\"][:2]:\n",
        "            qas_id = qa[\"id\"]\n",
        "            question_text = qa[\"question\"]\n",
        "\n",
        "            start_position = None\n",
        "            end_position = None\n",
        "            orig_answer_text = None\n",
        "\n",
        "            answerdic = qa[\"answers\"][0]\n",
        "            orig_answer_text = answerdic[\"text\"] # answer string\n",
        "            answer_offset = answerdic[\"answer_start\"] # answer index\n",
        "            answer_length = len(orig_answer_text)\n",
        "            start_position = char_to_word_offset[answer_offset] # answer index to word start\n",
        "            end_position = char_to_word_offset[answer_offset + answer_length - 1] # answer index to word end\n",
        "            actual_text = \" \".join(doc_tokens[start_position:(end_position + 1)]) # get the answer from the tokens\n",
        "            # print(orig_answer_text)\n",
        "            # print(answer_offset)\n",
        "            # print(start_position)\n",
        "            # print(end_position)\n",
        "            # print(actual_text)\n",
        "            cleaned_answer_text = \" \".join(whitespace_tokenize(orig_answer_text)) # strip and join split\n",
        "            # print(cleaned_answer_text)\n",
        "            if actual_text.find(cleaned_answer_text) == -1:\n",
        "              print(\"Could not find answer: '%s' vs. '%s'\",actual_text, cleaned_answer_text)\n",
        "              continue\n",
        "            \n",
        "            example = SquadExample(\n",
        "                qas_id=qas_id,\n",
        "                question_text=question_text,\n",
        "                doc_tokens=doc_tokens,\n",
        "                orig_answer_text=orig_answer_text,\n",
        "                start_position=start_position,\n",
        "                end_position=end_position,\n",
        "                is_impossible=None)\n",
        "            examples.append(example)"
      ]
    },
    {
      "cell_type": "code",
      "source": [
        "print(examples[0])"
      ],
      "metadata": {
        "colab": {
          "base_uri": "https://localhost:8080/"
        },
        "id": "h3JPNUryoj6F",
        "outputId": "e4344fcc-7891-44ee-e9b5-9a826ff35ab3"
      },
      "execution_count": 79,
      "outputs": [
        {
          "output_type": "stream",
          "name": "stdout",
          "text": [
            "<__main__.SquadExample object at 0x7f409bc27210>\n"
          ]
        }
      ]
    },
    {
      "cell_type": "code",
      "source": [
        "counter = 0\n",
        "for example in examples:\n",
        "    if example.orig_answer_text!=None:\n",
        "        counter += 1\n",
        "        print(example.question_text, example.orig_answer_text)\n",
        "    if counter>10:\n",
        "        break"
      ],
      "metadata": {
        "colab": {
          "base_uri": "https://localhost:8080/"
        },
        "id": "aN0ZfV7fhJAp",
        "outputId": "01e9362b-2db7-4d1d-fb65-db99ad7d7dac"
      },
      "execution_count": 80,
      "outputs": [
        {
          "output_type": "stream",
          "name": "stdout",
          "text": [
            "Which NFL team represented the AFC at Super Bowl 50? Denver Broncos\n",
            "Which NFL team represented the NFC at Super Bowl 50? Carolina Panthers\n",
            "Which Carolina Panthers player was named Most Valuable Player? Cam Newton\n",
            "How many appearances have the Denver Broncos made in the Super Bowl? 8\n",
            "What was Maria Curie the first female recipient of? Nobel Prize\n",
            "What year was Casimir Pulaski born in Warsaw? 1745\n",
            "Over how many species of trees can be found in the Saxon Garden? 100\n",
            "What is a popular strolling destination for the Varsovians? Krasiński Palace Garden\n"
          ]
        }
      ]
    },
    {
      "cell_type": "code",
      "source": [
        "def replaceEntityNames(originalParagraphs, candidateList, Tagger):\n",
        "    QaList = []\n",
        "    EntityList = []\n",
        "    length = len(candidateList)\n",
        "    for para in originalParagraphs[:10]: # iterate all context-qas\n",
        "        qa_list = [] # question-answer pairs for each context\n",
        "        entity_list = []\n",
        "        hasInstance = False\n",
        "        context = para['context'] # get context\n",
        "        for qa in para['qas']: # iterate all question-answer pairs\n",
        "            if not qa['answers']:\n",
        "                continue\n",
        "            hasPer = False\n",
        "            answer = qa['answers'][0]['text'] # get the answer\n",
        "            sentence = Sentence(answer)\n",
        "            Tagger.predict(sentence)\n",
        "            for entity in sentence.get_spans('ner'):\n",
        "                if 'PER' == entity.tag: # whether the answer is PER tag\n",
        "                    entity_list.append(entity.text)\n",
        "                    hasPer = True\n",
        "            if hasPer: # if answer has PER tag\n",
        "                qa_list.append(qa['question']) # add all question answer pairs to list\n",
        "                qa_list.append(answer)\n",
        "                hasInstance = True\n",
        "        if hasInstance:\n",
        "            qas_list = [qa_list, context] # question-answer pairs and context\n",
        "            QaList.append(qas_list) \n",
        "            EntityList.append(entity_list)\n",
        "\n",
        "    for i in range(len(QaList)):\n",
        "        qas = QaList[i][0] # all question answer pairs\n",
        "        context = QaList[i][1] # get context\n",
        "        for oldName in EntityList[i]: # each context each answer anme\n",
        "            newName = candidateList[random.randint(0, length-1)] # get a new name randomly\n",
        "            for j in range(len(qas)):\n",
        "                qas[j] = qas[j].replace(oldName, newName)\n",
        "            context = context.replace(oldName, newName)\n",
        "        QaList[i][0] = qas\n",
        "        QaList[i][1] = context\n",
        "\n",
        "    return QaList"
      ],
      "metadata": {
        "id": "v0gpmcyqo2ZO"
      },
      "execution_count": 97,
      "outputs": []
    },
    {
      "cell_type": "code",
      "source": [
        "def writeToFile(data, candidates, Tagger, outputFile):\n",
        "    perterbed_list = []\n",
        "    for sample in data:\n",
        "        qas = sample['paragraphs']\n",
        "        perterbed_list.append(replaceEntityNames(qas, candidates, Tagger))\n",
        "    with open(outputFile, 'w', encoding='utf-8') as f:\n",
        "        for paragraphs in perterbed_list:\n",
        "            for paragraph in paragraphs:\n",
        "                for k in range(0, len(paragraph[0]), 2):\n",
        "                    f.write(paragraph[0][k] + '/' + paragraph[0][k+1] + '\\n')\n",
        "                f.write('\\n' + paragraph[1] + '\\n\\n')"
      ],
      "metadata": {
        "id": "EA02adoGrKq4"
      },
      "execution_count": 98,
      "outputs": []
    },
    {
      "cell_type": "code",
      "source": [
        "nameList = [\n",
        "    'James',\n",
        "    'Mia Forcost',\n",
        "    'gags iiopg asvg',\n",
        "    'Ming Cheng'\n",
        "]"
      ],
      "metadata": {
        "id": "Mn5jj7-atJC4"
      },
      "execution_count": 99,
      "outputs": []
    },
    {
      "cell_type": "code",
      "source": [
        "replaceEntityNames(input_data[0][\"paragraphs\"],nameList,tagger)"
      ],
      "metadata": {
        "colab": {
          "base_uri": "https://localhost:8080/"
        },
        "id": "BPyba0cXspud",
        "outputId": "94886a2f-53f9-445e-ac64-14046b5e7354"
      },
      "execution_count": 100,
      "outputs": [
        {
          "output_type": "stream",
          "name": "stdout",
          "text": [
            "[]\n",
            "[]\n",
            "[[['Which Carolina Panthers player was named Most Valuable Player?', 'Cam Newton', \"Who was this season's NFL MVP?\", 'Cam Newton', \"Which Carolina Panthers team member was picked as the team's MVP in 2015? \", 'Cam Newton', 'Who is the quarterback for the Panthers?', 'Cam Newton', 'Who was the Most Valuable Player for the 2015 NFL season?', 'Cam Newton', 'Who was the 2015 NFL MVP?', 'Cam Newton'], 'The Panthers finished the regular season with a 15–1 record, and quarterback Cam Newton was named the NFL Most Valuable Player (MVP). They defeated the Arizona Cardinals 49–15 in the NFC Championship Game and advanced to their second Super Bowl appearance since the franchise was founded in 1995. The Broncos finished the regular season with a 12–4 record, and denied the New England Patriots a chance to defend their title from Super Bowl XLIX by defeating them 20–18 in the AFC Championship Game. They joined the Patriots, Dallas Cowboys, and Pittsburgh Steelers as one of four teams that have made eight appearances in the Super Bowl.']]\n",
            "[['Cam Newton', 'Cam Newton', 'Cam Newton', 'Cam Newton', 'Cam Newton', 'Cam Newton']]\n",
            "[[['Which Carolina Panthers player was named Most Valuable Player?', 'Cam Newton', \"Who was this season's NFL MVP?\", 'Cam Newton', \"Which Carolina Panthers team member was picked as the team's MVP in 2015? \", 'Cam Newton', 'Who is the quarterback for the Panthers?', 'Cam Newton', 'Who was the Most Valuable Player for the 2015 NFL season?', 'Cam Newton', 'Who was the 2015 NFL MVP?', 'Cam Newton'], 'The Panthers finished the regular season with a 15–1 record, and quarterback Cam Newton was named the NFL Most Valuable Player (MVP). They defeated the Arizona Cardinals 49–15 in the NFC Championship Game and advanced to their second Super Bowl appearance since the franchise was founded in 1995. The Broncos finished the regular season with a 12–4 record, and denied the New England Patriots a chance to defend their title from Super Bowl XLIX by defeating them 20–18 in the AFC Championship Game. They joined the Patriots, Dallas Cowboys, and Pittsburgh Steelers as one of four teams that have made eight appearances in the Super Bowl.'], [['Who was the Super Bowl 50 MVP?', 'Von Miller', 'Which Denver linebacker was named Super Bowl MVP?', 'linebacker Von Miller', \"Who was limited by Denver's defense?\", \"Newton was limited by Denver's defense\", 'Who won the Super Bowl MVP?', 'Von Miller', 'Who was given the esteemed status of MVP for Super Bowl 50?', 'Von Miller', 'Who won the MVP for the Super Bowl?', 'Von Miller', 'Who was the Most Valuable Player of Super Bowl 50?', 'Von Miller', 'What Denver player caused two fumbles for the Panthers?', 'Von Miller'], \"The Broncos took an early lead in Super Bowl 50 and never trailed. Newton was limited by Denver's defense, which sacked him seven times and forced him into three turnovers, including a fumble which they recovered for a touchdown. Denver linebacker Von Miller was named Super Bowl MVP, recording five solo tackles, 2½ sacks, and two forced fumbles.\"]]\n",
            "[['Cam Newton', 'Cam Newton', 'Cam Newton', 'Cam Newton', 'Cam Newton', 'Cam Newton'], ['Von Miller', 'Von Miller', 'Newton', 'Von Miller', 'Von Miller', 'Von Miller', 'Von Miller', 'Von Miller']]\n",
            "[[['Which Carolina Panthers player was named Most Valuable Player?', 'Cam Newton', \"Who was this season's NFL MVP?\", 'Cam Newton', \"Which Carolina Panthers team member was picked as the team's MVP in 2015? \", 'Cam Newton', 'Who is the quarterback for the Panthers?', 'Cam Newton', 'Who was the Most Valuable Player for the 2015 NFL season?', 'Cam Newton', 'Who was the 2015 NFL MVP?', 'Cam Newton'], 'The Panthers finished the regular season with a 15–1 record, and quarterback Cam Newton was named the NFL Most Valuable Player (MVP). They defeated the Arizona Cardinals 49–15 in the NFC Championship Game and advanced to their second Super Bowl appearance since the franchise was founded in 1995. The Broncos finished the regular season with a 12–4 record, and denied the New England Patriots a chance to defend their title from Super Bowl XLIX by defeating them 20–18 in the AFC Championship Game. They joined the Patriots, Dallas Cowboys, and Pittsburgh Steelers as one of four teams that have made eight appearances in the Super Bowl.'], [['Who was the Super Bowl 50 MVP?', 'Von Miller', 'Which Denver linebacker was named Super Bowl MVP?', 'linebacker Von Miller', \"Who was limited by Denver's defense?\", \"Newton was limited by Denver's defense\", 'Who won the Super Bowl MVP?', 'Von Miller', 'Who was given the esteemed status of MVP for Super Bowl 50?', 'Von Miller', 'Who won the MVP for the Super Bowl?', 'Von Miller', 'Who was the Most Valuable Player of Super Bowl 50?', 'Von Miller', 'What Denver player caused two fumbles for the Panthers?', 'Von Miller'], \"The Broncos took an early lead in Super Bowl 50 and never trailed. Newton was limited by Denver's defense, which sacked him seven times and forced him into three turnovers, including a fumble which they recovered for a touchdown. Denver linebacker Von Miller was named Super Bowl MVP, recording five solo tackles, 2½ sacks, and two forced fumbles.\"], [['Which performers joined the headliner during the Super Bowl 50 halftime show?', 'Beyoncé and Bruno Mars', 'What halftime performer previously headlined Super Bowl XLVIII?', 'Bruno Mars', 'Who was the male singer who performed as a special guest during Super Bowl 50?', 'Bruno Mars', 'What two artists came out with Coldplay during the half-time show?', 'Beyoncé and Bruno Mars', 'Who were special guests for the Super Bowl halftime show?', 'Beyoncé and Bruno Mars', 'What other two famous performers were part of the Super Bowl 50 halftime?', 'Beyoncé and Bruno Mars', 'What performer lead the Super Bowl XLVIII halftime show?', 'Bruno Mars'], 'CBS broadcast Super Bowl 50 in the U.S., and charged an average of $5 million for a 30-second commercial during the game. The Super Bowl 50 halftime show was headlined by the British rock group Coldplay with special guest performers Beyoncé and Bruno Mars, who headlined the Super Bowl XLVII and Super Bowl XLVIII halftime shows, respectively. It was the third-most watched U.S. broadcast ever.']]\n",
            "[['Cam Newton', 'Cam Newton', 'Cam Newton', 'Cam Newton', 'Cam Newton', 'Cam Newton'], ['Von Miller', 'Von Miller', 'Newton', 'Von Miller', 'Von Miller', 'Von Miller', 'Von Miller', 'Von Miller'], ['Bruno Mars', 'Bruno Mars', 'Bruno Mars', 'Bruno Mars', 'Bruno Mars', 'Bruno Mars', 'Bruno Mars']]\n",
            "[[['Which Carolina Panthers player was named Most Valuable Player?', 'Cam Newton', \"Who was this season's NFL MVP?\", 'Cam Newton', \"Which Carolina Panthers team member was picked as the team's MVP in 2015? \", 'Cam Newton', 'Who is the quarterback for the Panthers?', 'Cam Newton', 'Who was the Most Valuable Player for the 2015 NFL season?', 'Cam Newton', 'Who was the 2015 NFL MVP?', 'Cam Newton'], 'The Panthers finished the regular season with a 15–1 record, and quarterback Cam Newton was named the NFL Most Valuable Player (MVP). They defeated the Arizona Cardinals 49–15 in the NFC Championship Game and advanced to their second Super Bowl appearance since the franchise was founded in 1995. The Broncos finished the regular season with a 12–4 record, and denied the New England Patriots a chance to defend their title from Super Bowl XLIX by defeating them 20–18 in the AFC Championship Game. They joined the Patriots, Dallas Cowboys, and Pittsburgh Steelers as one of four teams that have made eight appearances in the Super Bowl.'], [['Who was the Super Bowl 50 MVP?', 'Von Miller', 'Which Denver linebacker was named Super Bowl MVP?', 'linebacker Von Miller', \"Who was limited by Denver's defense?\", \"Newton was limited by Denver's defense\", 'Who won the Super Bowl MVP?', 'Von Miller', 'Who was given the esteemed status of MVP for Super Bowl 50?', 'Von Miller', 'Who won the MVP for the Super Bowl?', 'Von Miller', 'Who was the Most Valuable Player of Super Bowl 50?', 'Von Miller', 'What Denver player caused two fumbles for the Panthers?', 'Von Miller'], \"The Broncos took an early lead in Super Bowl 50 and never trailed. Newton was limited by Denver's defense, which sacked him seven times and forced him into three turnovers, including a fumble which they recovered for a touchdown. Denver linebacker Von Miller was named Super Bowl MVP, recording five solo tackles, 2½ sacks, and two forced fumbles.\"], [['Which performers joined the headliner during the Super Bowl 50 halftime show?', 'Beyoncé and Bruno Mars', 'What halftime performer previously headlined Super Bowl XLVIII?', 'Bruno Mars', 'Who was the male singer who performed as a special guest during Super Bowl 50?', 'Bruno Mars', 'What two artists came out with Coldplay during the half-time show?', 'Beyoncé and Bruno Mars', 'Who were special guests for the Super Bowl halftime show?', 'Beyoncé and Bruno Mars', 'What other two famous performers were part of the Super Bowl 50 halftime?', 'Beyoncé and Bruno Mars', 'What performer lead the Super Bowl XLVIII halftime show?', 'Bruno Mars'], 'CBS broadcast Super Bowl 50 in the U.S., and charged an average of $5 million for a 30-second commercial during the game. The Super Bowl 50 halftime show was headlined by the British rock group Coldplay with special guest performers Beyoncé and Bruno Mars, who headlined the Super Bowl XLVII and Super Bowl XLVIII halftime shows, respectively. It was the third-most watched U.S. broadcast ever.'], [['Who was the NFL Commissioner in early 2012?', 'Roger Goodell', 'Who is the Commissioner of the National Football League?', 'Roger Goodell', 'Who was the commissioner of the NFL in 2012? ', 'Roger Goodell', 'Who if the commissioner of the NFL?', 'Roger Goodell', 'Who is the commissioner of the NFL?', 'Roger Goodell'], 'In early 2012, NFL Commissioner Roger Goodell stated that the league planned to make the 50th Super Bowl \"spectacular\" and that it would be \"an important game for us as a league\".']]\n",
            "[['Cam Newton', 'Cam Newton', 'Cam Newton', 'Cam Newton', 'Cam Newton', 'Cam Newton'], ['Von Miller', 'Von Miller', 'Newton', 'Von Miller', 'Von Miller', 'Von Miller', 'Von Miller', 'Von Miller'], ['Bruno Mars', 'Bruno Mars', 'Bruno Mars', 'Bruno Mars', 'Bruno Mars', 'Bruno Mars', 'Bruno Mars'], ['Roger Goodell', 'Roger Goodell', 'Roger Goodell', 'Roger Goodell', 'Roger Goodell']]\n",
            "[[['Which Carolina Panthers player was named Most Valuable Player?', 'Cam Newton', \"Who was this season's NFL MVP?\", 'Cam Newton', \"Which Carolina Panthers team member was picked as the team's MVP in 2015? \", 'Cam Newton', 'Who is the quarterback for the Panthers?', 'Cam Newton', 'Who was the Most Valuable Player for the 2015 NFL season?', 'Cam Newton', 'Who was the 2015 NFL MVP?', 'Cam Newton'], 'The Panthers finished the regular season with a 15–1 record, and quarterback Cam Newton was named the NFL Most Valuable Player (MVP). They defeated the Arizona Cardinals 49–15 in the NFC Championship Game and advanced to their second Super Bowl appearance since the franchise was founded in 1995. The Broncos finished the regular season with a 12–4 record, and denied the New England Patriots a chance to defend their title from Super Bowl XLIX by defeating them 20–18 in the AFC Championship Game. They joined the Patriots, Dallas Cowboys, and Pittsburgh Steelers as one of four teams that have made eight appearances in the Super Bowl.'], [['Who was the Super Bowl 50 MVP?', 'Von Miller', 'Which Denver linebacker was named Super Bowl MVP?', 'linebacker Von Miller', \"Who was limited by Denver's defense?\", \"Newton was limited by Denver's defense\", 'Who won the Super Bowl MVP?', 'Von Miller', 'Who was given the esteemed status of MVP for Super Bowl 50?', 'Von Miller', 'Who won the MVP for the Super Bowl?', 'Von Miller', 'Who was the Most Valuable Player of Super Bowl 50?', 'Von Miller', 'What Denver player caused two fumbles for the Panthers?', 'Von Miller'], \"The Broncos took an early lead in Super Bowl 50 and never trailed. Newton was limited by Denver's defense, which sacked him seven times and forced him into three turnovers, including a fumble which they recovered for a touchdown. Denver linebacker Von Miller was named Super Bowl MVP, recording five solo tackles, 2½ sacks, and two forced fumbles.\"], [['Which performers joined the headliner during the Super Bowl 50 halftime show?', 'Beyoncé and Bruno Mars', 'What halftime performer previously headlined Super Bowl XLVIII?', 'Bruno Mars', 'Who was the male singer who performed as a special guest during Super Bowl 50?', 'Bruno Mars', 'What two artists came out with Coldplay during the half-time show?', 'Beyoncé and Bruno Mars', 'Who were special guests for the Super Bowl halftime show?', 'Beyoncé and Bruno Mars', 'What other two famous performers were part of the Super Bowl 50 halftime?', 'Beyoncé and Bruno Mars', 'What performer lead the Super Bowl XLVIII halftime show?', 'Bruno Mars'], 'CBS broadcast Super Bowl 50 in the U.S., and charged an average of $5 million for a 30-second commercial during the game. The Super Bowl 50 halftime show was headlined by the British rock group Coldplay with special guest performers Beyoncé and Bruno Mars, who headlined the Super Bowl XLVII and Super Bowl XLVIII halftime shows, respectively. It was the third-most watched U.S. broadcast ever.'], [['Who was the NFL Commissioner in early 2012?', 'Roger Goodell', 'Who is the Commissioner of the National Football League?', 'Roger Goodell', 'Who was the commissioner of the NFL in 2012? ', 'Roger Goodell', 'Who if the commissioner of the NFL?', 'Roger Goodell', 'Who is the commissioner of the NFL?', 'Roger Goodell'], 'In early 2012, NFL Commissioner Roger Goodell stated that the league planned to make the 50th Super Bowl \"spectacular\" and that it would be \"an important game for us as a league\".']]\n",
            "[['Cam Newton', 'Cam Newton', 'Cam Newton', 'Cam Newton', 'Cam Newton', 'Cam Newton'], ['Von Miller', 'Von Miller', 'Newton', 'Von Miller', 'Von Miller', 'Von Miller', 'Von Miller', 'Von Miller'], ['Bruno Mars', 'Bruno Mars', 'Bruno Mars', 'Bruno Mars', 'Bruno Mars', 'Bruno Mars', 'Bruno Mars'], ['Roger Goodell', 'Roger Goodell', 'Roger Goodell', 'Roger Goodell', 'Roger Goodell']]\n",
            "[[['Which Carolina Panthers player was named Most Valuable Player?', 'Cam Newton', \"Who was this season's NFL MVP?\", 'Cam Newton', \"Which Carolina Panthers team member was picked as the team's MVP in 2015? \", 'Cam Newton', 'Who is the quarterback for the Panthers?', 'Cam Newton', 'Who was the Most Valuable Player for the 2015 NFL season?', 'Cam Newton', 'Who was the 2015 NFL MVP?', 'Cam Newton'], 'The Panthers finished the regular season with a 15–1 record, and quarterback Cam Newton was named the NFL Most Valuable Player (MVP). They defeated the Arizona Cardinals 49–15 in the NFC Championship Game and advanced to their second Super Bowl appearance since the franchise was founded in 1995. The Broncos finished the regular season with a 12–4 record, and denied the New England Patriots a chance to defend their title from Super Bowl XLIX by defeating them 20–18 in the AFC Championship Game. They joined the Patriots, Dallas Cowboys, and Pittsburgh Steelers as one of four teams that have made eight appearances in the Super Bowl.'], [['Who was the Super Bowl 50 MVP?', 'Von Miller', 'Which Denver linebacker was named Super Bowl MVP?', 'linebacker Von Miller', \"Who was limited by Denver's defense?\", \"Newton was limited by Denver's defense\", 'Who won the Super Bowl MVP?', 'Von Miller', 'Who was given the esteemed status of MVP for Super Bowl 50?', 'Von Miller', 'Who won the MVP for the Super Bowl?', 'Von Miller', 'Who was the Most Valuable Player of Super Bowl 50?', 'Von Miller', 'What Denver player caused two fumbles for the Panthers?', 'Von Miller'], \"The Broncos took an early lead in Super Bowl 50 and never trailed. Newton was limited by Denver's defense, which sacked him seven times and forced him into three turnovers, including a fumble which they recovered for a touchdown. Denver linebacker Von Miller was named Super Bowl MVP, recording five solo tackles, 2½ sacks, and two forced fumbles.\"], [['Which performers joined the headliner during the Super Bowl 50 halftime show?', 'Beyoncé and Bruno Mars', 'What halftime performer previously headlined Super Bowl XLVIII?', 'Bruno Mars', 'Who was the male singer who performed as a special guest during Super Bowl 50?', 'Bruno Mars', 'What two artists came out with Coldplay during the half-time show?', 'Beyoncé and Bruno Mars', 'Who were special guests for the Super Bowl halftime show?', 'Beyoncé and Bruno Mars', 'What other two famous performers were part of the Super Bowl 50 halftime?', 'Beyoncé and Bruno Mars', 'What performer lead the Super Bowl XLVIII halftime show?', 'Bruno Mars'], 'CBS broadcast Super Bowl 50 in the U.S., and charged an average of $5 million for a 30-second commercial during the game. The Super Bowl 50 halftime show was headlined by the British rock group Coldplay with special guest performers Beyoncé and Bruno Mars, who headlined the Super Bowl XLVII and Super Bowl XLVIII halftime shows, respectively. It was the third-most watched U.S. broadcast ever.'], [['Who was the NFL Commissioner in early 2012?', 'Roger Goodell', 'Who is the Commissioner of the National Football League?', 'Roger Goodell', 'Who was the commissioner of the NFL in 2012? ', 'Roger Goodell', 'Who if the commissioner of the NFL?', 'Roger Goodell', 'Who is the commissioner of the NFL?', 'Roger Goodell'], 'In early 2012, NFL Commissioner Roger Goodell stated that the league planned to make the 50th Super Bowl \"spectacular\" and that it would be \"an important game for us as a league\".']]\n",
            "[['Cam Newton', 'Cam Newton', 'Cam Newton', 'Cam Newton', 'Cam Newton', 'Cam Newton'], ['Von Miller', 'Von Miller', 'Newton', 'Von Miller', 'Von Miller', 'Von Miller', 'Von Miller', 'Von Miller'], ['Bruno Mars', 'Bruno Mars', 'Bruno Mars', 'Bruno Mars', 'Bruno Mars', 'Bruno Mars', 'Bruno Mars'], ['Roger Goodell', 'Roger Goodell', 'Roger Goodell', 'Roger Goodell', 'Roger Goodell']]\n",
            "[[['Which Carolina Panthers player was named Most Valuable Player?', 'Cam Newton', \"Who was this season's NFL MVP?\", 'Cam Newton', \"Which Carolina Panthers team member was picked as the team's MVP in 2015? \", 'Cam Newton', 'Who is the quarterback for the Panthers?', 'Cam Newton', 'Who was the Most Valuable Player for the 2015 NFL season?', 'Cam Newton', 'Who was the 2015 NFL MVP?', 'Cam Newton'], 'The Panthers finished the regular season with a 15–1 record, and quarterback Cam Newton was named the NFL Most Valuable Player (MVP). They defeated the Arizona Cardinals 49–15 in the NFC Championship Game and advanced to their second Super Bowl appearance since the franchise was founded in 1995. The Broncos finished the regular season with a 12–4 record, and denied the New England Patriots a chance to defend their title from Super Bowl XLIX by defeating them 20–18 in the AFC Championship Game. They joined the Patriots, Dallas Cowboys, and Pittsburgh Steelers as one of four teams that have made eight appearances in the Super Bowl.'], [['Who was the Super Bowl 50 MVP?', 'Von Miller', 'Which Denver linebacker was named Super Bowl MVP?', 'linebacker Von Miller', \"Who was limited by Denver's defense?\", \"Newton was limited by Denver's defense\", 'Who won the Super Bowl MVP?', 'Von Miller', 'Who was given the esteemed status of MVP for Super Bowl 50?', 'Von Miller', 'Who won the MVP for the Super Bowl?', 'Von Miller', 'Who was the Most Valuable Player of Super Bowl 50?', 'Von Miller', 'What Denver player caused two fumbles for the Panthers?', 'Von Miller'], \"The Broncos took an early lead in Super Bowl 50 and never trailed. Newton was limited by Denver's defense, which sacked him seven times and forced him into three turnovers, including a fumble which they recovered for a touchdown. Denver linebacker Von Miller was named Super Bowl MVP, recording five solo tackles, 2½ sacks, and two forced fumbles.\"], [['Which performers joined the headliner during the Super Bowl 50 halftime show?', 'Beyoncé and Bruno Mars', 'What halftime performer previously headlined Super Bowl XLVIII?', 'Bruno Mars', 'Who was the male singer who performed as a special guest during Super Bowl 50?', 'Bruno Mars', 'What two artists came out with Coldplay during the half-time show?', 'Beyoncé and Bruno Mars', 'Who were special guests for the Super Bowl halftime show?', 'Beyoncé and Bruno Mars', 'What other two famous performers were part of the Super Bowl 50 halftime?', 'Beyoncé and Bruno Mars', 'What performer lead the Super Bowl XLVIII halftime show?', 'Bruno Mars'], 'CBS broadcast Super Bowl 50 in the U.S., and charged an average of $5 million for a 30-second commercial during the game. The Super Bowl 50 halftime show was headlined by the British rock group Coldplay with special guest performers Beyoncé and Bruno Mars, who headlined the Super Bowl XLVII and Super Bowl XLVIII halftime shows, respectively. It was the third-most watched U.S. broadcast ever.'], [['Who was the NFL Commissioner in early 2012?', 'Roger Goodell', 'Who is the Commissioner of the National Football League?', 'Roger Goodell', 'Who was the commissioner of the NFL in 2012? ', 'Roger Goodell', 'Who if the commissioner of the NFL?', 'Roger Goodell', 'Who is the commissioner of the NFL?', 'Roger Goodell'], 'In early 2012, NFL Commissioner Roger Goodell stated that the league planned to make the 50th Super Bowl \"spectacular\" and that it would be \"an important game for us as a league\".']]\n",
            "[['Cam Newton', 'Cam Newton', 'Cam Newton', 'Cam Newton', 'Cam Newton', 'Cam Newton'], ['Von Miller', 'Von Miller', 'Newton', 'Von Miller', 'Von Miller', 'Von Miller', 'Von Miller', 'Von Miller'], ['Bruno Mars', 'Bruno Mars', 'Bruno Mars', 'Bruno Mars', 'Bruno Mars', 'Bruno Mars', 'Bruno Mars'], ['Roger Goodell', 'Roger Goodell', 'Roger Goodell', 'Roger Goodell', 'Roger Goodell']]\n",
            "[[['Which Carolina Panthers player was named Most Valuable Player?', 'Cam Newton', \"Who was this season's NFL MVP?\", 'Cam Newton', \"Which Carolina Panthers team member was picked as the team's MVP in 2015? \", 'Cam Newton', 'Who is the quarterback for the Panthers?', 'Cam Newton', 'Who was the Most Valuable Player for the 2015 NFL season?', 'Cam Newton', 'Who was the 2015 NFL MVP?', 'Cam Newton'], 'The Panthers finished the regular season with a 15–1 record, and quarterback Cam Newton was named the NFL Most Valuable Player (MVP). They defeated the Arizona Cardinals 49–15 in the NFC Championship Game and advanced to their second Super Bowl appearance since the franchise was founded in 1995. The Broncos finished the regular season with a 12–4 record, and denied the New England Patriots a chance to defend their title from Super Bowl XLIX by defeating them 20–18 in the AFC Championship Game. They joined the Patriots, Dallas Cowboys, and Pittsburgh Steelers as one of four teams that have made eight appearances in the Super Bowl.'], [['Who was the Super Bowl 50 MVP?', 'Von Miller', 'Which Denver linebacker was named Super Bowl MVP?', 'linebacker Von Miller', \"Who was limited by Denver's defense?\", \"Newton was limited by Denver's defense\", 'Who won the Super Bowl MVP?', 'Von Miller', 'Who was given the esteemed status of MVP for Super Bowl 50?', 'Von Miller', 'Who won the MVP for the Super Bowl?', 'Von Miller', 'Who was the Most Valuable Player of Super Bowl 50?', 'Von Miller', 'What Denver player caused two fumbles for the Panthers?', 'Von Miller'], \"The Broncos took an early lead in Super Bowl 50 and never trailed. Newton was limited by Denver's defense, which sacked him seven times and forced him into three turnovers, including a fumble which they recovered for a touchdown. Denver linebacker Von Miller was named Super Bowl MVP, recording five solo tackles, 2½ sacks, and two forced fumbles.\"], [['Which performers joined the headliner during the Super Bowl 50 halftime show?', 'Beyoncé and Bruno Mars', 'What halftime performer previously headlined Super Bowl XLVIII?', 'Bruno Mars', 'Who was the male singer who performed as a special guest during Super Bowl 50?', 'Bruno Mars', 'What two artists came out with Coldplay during the half-time show?', 'Beyoncé and Bruno Mars', 'Who were special guests for the Super Bowl halftime show?', 'Beyoncé and Bruno Mars', 'What other two famous performers were part of the Super Bowl 50 halftime?', 'Beyoncé and Bruno Mars', 'What performer lead the Super Bowl XLVIII halftime show?', 'Bruno Mars'], 'CBS broadcast Super Bowl 50 in the U.S., and charged an average of $5 million for a 30-second commercial during the game. The Super Bowl 50 halftime show was headlined by the British rock group Coldplay with special guest performers Beyoncé and Bruno Mars, who headlined the Super Bowl XLVII and Super Bowl XLVIII halftime shows, respectively. It was the third-most watched U.S. broadcast ever.'], [['Who was the NFL Commissioner in early 2012?', 'Roger Goodell', 'Who is the Commissioner of the National Football League?', 'Roger Goodell', 'Who was the commissioner of the NFL in 2012? ', 'Roger Goodell', 'Who if the commissioner of the NFL?', 'Roger Goodell', 'Who is the commissioner of the NFL?', 'Roger Goodell'], 'In early 2012, NFL Commissioner Roger Goodell stated that the league planned to make the 50th Super Bowl \"spectacular\" and that it would be \"an important game for us as a league\".'], [['Who coached each Super Bowl 50 participant in their most recent Super Bowl appearance prior to Super Bowl 50?', 'John Fox', 'Who was the head coach of the Broncos in Super Bowl XLVIII?', 'John Fox', \"Before Super Bowl 50, what was the coach's name that coached both teams for their last Super Bowl appearances?\", 'John Fox'], 'For the third straight season, the number one seeds from both conferences met in the Super Bowl. The Carolina Panthers became one of only ten teams to have completed a regular season with only one loss, and one of only six teams to have acquired a 15–1 record, while the Denver Broncos became one of four teams to have made eight appearances in the Super Bowl. The Broncos made their second Super Bowl appearance in three years, having reached Super Bowl XLVIII, while the Panthers made their second Super Bowl appearance in franchise history, their other appearance being Super Bowl XXXVIII. Coincidentally, both teams were coached by John Fox in their last Super Bowl appearance prior to Super Bowl 50.']]\n",
            "[['Cam Newton', 'Cam Newton', 'Cam Newton', 'Cam Newton', 'Cam Newton', 'Cam Newton'], ['Von Miller', 'Von Miller', 'Newton', 'Von Miller', 'Von Miller', 'Von Miller', 'Von Miller', 'Von Miller'], ['Bruno Mars', 'Bruno Mars', 'Bruno Mars', 'Bruno Mars', 'Bruno Mars', 'Bruno Mars', 'Bruno Mars'], ['Roger Goodell', 'Roger Goodell', 'Roger Goodell', 'Roger Goodell', 'Roger Goodell'], ['John Fox', 'John Fox', 'John Fox']]\n",
            "[[['Which Carolina Panthers player was named Most Valuable Player?', 'Cam Newton', \"Who was this season's NFL MVP?\", 'Cam Newton', \"Which Carolina Panthers team member was picked as the team's MVP in 2015? \", 'Cam Newton', 'Who is the quarterback for the Panthers?', 'Cam Newton', 'Who was the Most Valuable Player for the 2015 NFL season?', 'Cam Newton', 'Who was the 2015 NFL MVP?', 'Cam Newton'], 'The Panthers finished the regular season with a 15–1 record, and quarterback Cam Newton was named the NFL Most Valuable Player (MVP). They defeated the Arizona Cardinals 49–15 in the NFC Championship Game and advanced to their second Super Bowl appearance since the franchise was founded in 1995. The Broncos finished the regular season with a 12–4 record, and denied the New England Patriots a chance to defend their title from Super Bowl XLIX by defeating them 20–18 in the AFC Championship Game. They joined the Patriots, Dallas Cowboys, and Pittsburgh Steelers as one of four teams that have made eight appearances in the Super Bowl.'], [['Who was the Super Bowl 50 MVP?', 'Von Miller', 'Which Denver linebacker was named Super Bowl MVP?', 'linebacker Von Miller', \"Who was limited by Denver's defense?\", \"Newton was limited by Denver's defense\", 'Who won the Super Bowl MVP?', 'Von Miller', 'Who was given the esteemed status of MVP for Super Bowl 50?', 'Von Miller', 'Who won the MVP for the Super Bowl?', 'Von Miller', 'Who was the Most Valuable Player of Super Bowl 50?', 'Von Miller', 'What Denver player caused two fumbles for the Panthers?', 'Von Miller'], \"The Broncos took an early lead in Super Bowl 50 and never trailed. Newton was limited by Denver's defense, which sacked him seven times and forced him into three turnovers, including a fumble which they recovered for a touchdown. Denver linebacker Von Miller was named Super Bowl MVP, recording five solo tackles, 2½ sacks, and two forced fumbles.\"], [['Which performers joined the headliner during the Super Bowl 50 halftime show?', 'Beyoncé and Bruno Mars', 'What halftime performer previously headlined Super Bowl XLVIII?', 'Bruno Mars', 'Who was the male singer who performed as a special guest during Super Bowl 50?', 'Bruno Mars', 'What two artists came out with Coldplay during the half-time show?', 'Beyoncé and Bruno Mars', 'Who were special guests for the Super Bowl halftime show?', 'Beyoncé and Bruno Mars', 'What other two famous performers were part of the Super Bowl 50 halftime?', 'Beyoncé and Bruno Mars', 'What performer lead the Super Bowl XLVIII halftime show?', 'Bruno Mars'], 'CBS broadcast Super Bowl 50 in the U.S., and charged an average of $5 million for a 30-second commercial during the game. The Super Bowl 50 halftime show was headlined by the British rock group Coldplay with special guest performers Beyoncé and Bruno Mars, who headlined the Super Bowl XLVII and Super Bowl XLVIII halftime shows, respectively. It was the third-most watched U.S. broadcast ever.'], [['Who was the NFL Commissioner in early 2012?', 'Roger Goodell', 'Who is the Commissioner of the National Football League?', 'Roger Goodell', 'Who was the commissioner of the NFL in 2012? ', 'Roger Goodell', 'Who if the commissioner of the NFL?', 'Roger Goodell', 'Who is the commissioner of the NFL?', 'Roger Goodell'], 'In early 2012, NFL Commissioner Roger Goodell stated that the league planned to make the 50th Super Bowl \"spectacular\" and that it would be \"an important game for us as a league\".'], [['Who coached each Super Bowl 50 participant in their most recent Super Bowl appearance prior to Super Bowl 50?', 'John Fox', 'Who was the head coach of the Broncos in Super Bowl XLVIII?', 'John Fox', \"Before Super Bowl 50, what was the coach's name that coached both teams for their last Super Bowl appearances?\", 'John Fox'], 'For the third straight season, the number one seeds from both conferences met in the Super Bowl. The Carolina Panthers became one of only ten teams to have completed a regular season with only one loss, and one of only six teams to have acquired a 15–1 record, while the Denver Broncos became one of four teams to have made eight appearances in the Super Bowl. The Broncos made their second Super Bowl appearance in three years, having reached Super Bowl XLVIII, while the Panthers made their second Super Bowl appearance in franchise history, their other appearance being Super Bowl XXXVIII. Coincidentally, both teams were coached by John Fox in their last Super Bowl appearance prior to Super Bowl 50.'], [['Whic Carolina Panthers running back was waived?', 'DeAngelo Williams', 'Which Carolina Panthers wide receiver suffered a torn ACL before the season began?', 'Kelvin Benjamin', 'What Panther tore his ACL in the preseason?', 'Kelvin Benjamin', 'Which player did the Panthers lose to an ACL injury in a preseason game?', 'Kelvin Benjamin', 'Which running back did the Panthers waive?', 'DeAngelo Williams'], 'Despite waiving longtime running back DeAngelo Williams and losing top wide receiver Kelvin Benjamin to a torn ACL in the preseason, the Carolina Panthers had their best regular season in franchise history, becoming the seventh team to win at least 15 regular season games since the league expanded to a 16-game schedule in 1978. Carolina started the season 14–0, not only setting franchise records for the best start and the longest single-season winning streak, but also posting the best start to a season by an NFC team in NFL history, breaking the 13–0 record previously shared with the 2009 New Orleans Saints and the 2011 Green Bay Packers. With their NFC-best 15–1 regular season record, the Panthers clinched home-field advantage throughout the NFC playoffs for the first time in franchise history. Ten players were selected to the Pro Bowl (the most in franchise history) along with eight All-Pro selections.']]\n",
            "[['Cam Newton', 'Cam Newton', 'Cam Newton', 'Cam Newton', 'Cam Newton', 'Cam Newton'], ['Von Miller', 'Von Miller', 'Newton', 'Von Miller', 'Von Miller', 'Von Miller', 'Von Miller', 'Von Miller'], ['Bruno Mars', 'Bruno Mars', 'Bruno Mars', 'Bruno Mars', 'Bruno Mars', 'Bruno Mars', 'Bruno Mars'], ['Roger Goodell', 'Roger Goodell', 'Roger Goodell', 'Roger Goodell', 'Roger Goodell'], ['John Fox', 'John Fox', 'John Fox'], ['DeAngelo Williams', 'Kelvin Benjamin', 'Kelvin Benjamin', 'Kelvin Benjamin', 'DeAngelo Williams']]\n"
          ]
        }
      ]
    },
    {
      "cell_type": "code",
      "source": [
        ""
      ],
      "metadata": {
        "id": "zNmVnY1MtDtL"
      },
      "execution_count": null,
      "outputs": []
    }
  ],
  "metadata": {
    "interpreter": {
      "hash": "37997f9923054e0543506269bd8c6ca6ba8974bba795a12d959c8c75d807c884"
    },
    "kernelspec": {
      "display_name": "Python 3",
      "language": "python",
      "name": "python3"
    },
    "language_info": {
      "codemirror_mode": {
        "name": "ipython",
        "version": 3
      },
      "file_extension": ".py",
      "mimetype": "text/x-python",
      "name": "python",
      "nbconvert_exporter": "python",
      "pygments_lexer": "ipython3",
      "version": "3.8.8"
    },
    "colab": {
      "name": "filter_name_rename.ipynb",
      "provenance": [],
      "collapsed_sections": [],
      "include_colab_link": true
    },
    "widgets": {
      "application/vnd.jupyter.widget-state+json": {
        "328afe6a1437438a8fbaf7d0044d92b3": {
          "model_module": "@jupyter-widgets/controls",
          "model_name": "HBoxModel",
          "model_module_version": "1.5.0",
          "state": {
            "_dom_classes": [],
            "_model_module": "@jupyter-widgets/controls",
            "_model_module_version": "1.5.0",
            "_model_name": "HBoxModel",
            "_view_count": null,
            "_view_module": "@jupyter-widgets/controls",
            "_view_module_version": "1.5.0",
            "_view_name": "HBoxView",
            "box_style": "",
            "children": [
              "IPY_MODEL_20f0341c279d4111952a971844f4f2a1",
              "IPY_MODEL_7ea64b8a32cc42be83fd5eb2c368c451",
              "IPY_MODEL_8e7e377108e545b28e4eac222618f3f6"
            ],
            "layout": "IPY_MODEL_1c586b5e33434d5b83ed8e0fe9646602"
          }
        },
        "20f0341c279d4111952a971844f4f2a1": {
          "model_module": "@jupyter-widgets/controls",
          "model_name": "HTMLModel",
          "model_module_version": "1.5.0",
          "state": {
            "_dom_classes": [],
            "_model_module": "@jupyter-widgets/controls",
            "_model_module_version": "1.5.0",
            "_model_name": "HTMLModel",
            "_view_count": null,
            "_view_module": "@jupyter-widgets/controls",
            "_view_module_version": "1.5.0",
            "_view_name": "HTMLView",
            "description": "",
            "description_tooltip": null,
            "layout": "IPY_MODEL_fd77dc909b224e798abbbfe3f34ef04f",
            "placeholder": "​",
            "style": "IPY_MODEL_cea64dd1f1934de78634208a078d7858",
            "value": "Downloading: 100%"
          }
        },
        "7ea64b8a32cc42be83fd5eb2c368c451": {
          "model_module": "@jupyter-widgets/controls",
          "model_name": "FloatProgressModel",
          "model_module_version": "1.5.0",
          "state": {
            "_dom_classes": [],
            "_model_module": "@jupyter-widgets/controls",
            "_model_module_version": "1.5.0",
            "_model_name": "FloatProgressModel",
            "_view_count": null,
            "_view_module": "@jupyter-widgets/controls",
            "_view_module_version": "1.5.0",
            "_view_name": "ProgressView",
            "bar_style": "success",
            "description": "",
            "description_tooltip": null,
            "layout": "IPY_MODEL_0205e08c92a2469ea5cf7da2f5530fb9",
            "max": 432176557,
            "min": 0,
            "orientation": "horizontal",
            "style": "IPY_MODEL_75bc4be7c4834eb198db875212606dcd",
            "value": 432176557
          }
        },
        "8e7e377108e545b28e4eac222618f3f6": {
          "model_module": "@jupyter-widgets/controls",
          "model_name": "HTMLModel",
          "model_module_version": "1.5.0",
          "state": {
            "_dom_classes": [],
            "_model_module": "@jupyter-widgets/controls",
            "_model_module_version": "1.5.0",
            "_model_name": "HTMLModel",
            "_view_count": null,
            "_view_module": "@jupyter-widgets/controls",
            "_view_module_version": "1.5.0",
            "_view_name": "HTMLView",
            "description": "",
            "description_tooltip": null,
            "layout": "IPY_MODEL_7a84e02feb3e4220ad09cf954cfe6777",
            "placeholder": "​",
            "style": "IPY_MODEL_609fdeda9e0845b185f2d979d348f9d6",
            "value": " 432M/432M [00:09&lt;00:00, 45.9MB/s]"
          }
        },
        "1c586b5e33434d5b83ed8e0fe9646602": {
          "model_module": "@jupyter-widgets/base",
          "model_name": "LayoutModel",
          "model_module_version": "1.2.0",
          "state": {
            "_model_module": "@jupyter-widgets/base",
            "_model_module_version": "1.2.0",
            "_model_name": "LayoutModel",
            "_view_count": null,
            "_view_module": "@jupyter-widgets/base",
            "_view_module_version": "1.2.0",
            "_view_name": "LayoutView",
            "align_content": null,
            "align_items": null,
            "align_self": null,
            "border": null,
            "bottom": null,
            "display": null,
            "flex": null,
            "flex_flow": null,
            "grid_area": null,
            "grid_auto_columns": null,
            "grid_auto_flow": null,
            "grid_auto_rows": null,
            "grid_column": null,
            "grid_gap": null,
            "grid_row": null,
            "grid_template_areas": null,
            "grid_template_columns": null,
            "grid_template_rows": null,
            "height": null,
            "justify_content": null,
            "justify_items": null,
            "left": null,
            "margin": null,
            "max_height": null,
            "max_width": null,
            "min_height": null,
            "min_width": null,
            "object_fit": null,
            "object_position": null,
            "order": null,
            "overflow": null,
            "overflow_x": null,
            "overflow_y": null,
            "padding": null,
            "right": null,
            "top": null,
            "visibility": null,
            "width": null
          }
        },
        "fd77dc909b224e798abbbfe3f34ef04f": {
          "model_module": "@jupyter-widgets/base",
          "model_name": "LayoutModel",
          "model_module_version": "1.2.0",
          "state": {
            "_model_module": "@jupyter-widgets/base",
            "_model_module_version": "1.2.0",
            "_model_name": "LayoutModel",
            "_view_count": null,
            "_view_module": "@jupyter-widgets/base",
            "_view_module_version": "1.2.0",
            "_view_name": "LayoutView",
            "align_content": null,
            "align_items": null,
            "align_self": null,
            "border": null,
            "bottom": null,
            "display": null,
            "flex": null,
            "flex_flow": null,
            "grid_area": null,
            "grid_auto_columns": null,
            "grid_auto_flow": null,
            "grid_auto_rows": null,
            "grid_column": null,
            "grid_gap": null,
            "grid_row": null,
            "grid_template_areas": null,
            "grid_template_columns": null,
            "grid_template_rows": null,
            "height": null,
            "justify_content": null,
            "justify_items": null,
            "left": null,
            "margin": null,
            "max_height": null,
            "max_width": null,
            "min_height": null,
            "min_width": null,
            "object_fit": null,
            "object_position": null,
            "order": null,
            "overflow": null,
            "overflow_x": null,
            "overflow_y": null,
            "padding": null,
            "right": null,
            "top": null,
            "visibility": null,
            "width": null
          }
        },
        "cea64dd1f1934de78634208a078d7858": {
          "model_module": "@jupyter-widgets/controls",
          "model_name": "DescriptionStyleModel",
          "model_module_version": "1.5.0",
          "state": {
            "_model_module": "@jupyter-widgets/controls",
            "_model_module_version": "1.5.0",
            "_model_name": "DescriptionStyleModel",
            "_view_count": null,
            "_view_module": "@jupyter-widgets/base",
            "_view_module_version": "1.2.0",
            "_view_name": "StyleView",
            "description_width": ""
          }
        },
        "0205e08c92a2469ea5cf7da2f5530fb9": {
          "model_module": "@jupyter-widgets/base",
          "model_name": "LayoutModel",
          "model_module_version": "1.2.0",
          "state": {
            "_model_module": "@jupyter-widgets/base",
            "_model_module_version": "1.2.0",
            "_model_name": "LayoutModel",
            "_view_count": null,
            "_view_module": "@jupyter-widgets/base",
            "_view_module_version": "1.2.0",
            "_view_name": "LayoutView",
            "align_content": null,
            "align_items": null,
            "align_self": null,
            "border": null,
            "bottom": null,
            "display": null,
            "flex": null,
            "flex_flow": null,
            "grid_area": null,
            "grid_auto_columns": null,
            "grid_auto_flow": null,
            "grid_auto_rows": null,
            "grid_column": null,
            "grid_gap": null,
            "grid_row": null,
            "grid_template_areas": null,
            "grid_template_columns": null,
            "grid_template_rows": null,
            "height": null,
            "justify_content": null,
            "justify_items": null,
            "left": null,
            "margin": null,
            "max_height": null,
            "max_width": null,
            "min_height": null,
            "min_width": null,
            "object_fit": null,
            "object_position": null,
            "order": null,
            "overflow": null,
            "overflow_x": null,
            "overflow_y": null,
            "padding": null,
            "right": null,
            "top": null,
            "visibility": null,
            "width": null
          }
        },
        "75bc4be7c4834eb198db875212606dcd": {
          "model_module": "@jupyter-widgets/controls",
          "model_name": "ProgressStyleModel",
          "model_module_version": "1.5.0",
          "state": {
            "_model_module": "@jupyter-widgets/controls",
            "_model_module_version": "1.5.0",
            "_model_name": "ProgressStyleModel",
            "_view_count": null,
            "_view_module": "@jupyter-widgets/base",
            "_view_module_version": "1.2.0",
            "_view_name": "StyleView",
            "bar_color": null,
            "description_width": ""
          }
        },
        "7a84e02feb3e4220ad09cf954cfe6777": {
          "model_module": "@jupyter-widgets/base",
          "model_name": "LayoutModel",
          "model_module_version": "1.2.0",
          "state": {
            "_model_module": "@jupyter-widgets/base",
            "_model_module_version": "1.2.0",
            "_model_name": "LayoutModel",
            "_view_count": null,
            "_view_module": "@jupyter-widgets/base",
            "_view_module_version": "1.2.0",
            "_view_name": "LayoutView",
            "align_content": null,
            "align_items": null,
            "align_self": null,
            "border": null,
            "bottom": null,
            "display": null,
            "flex": null,
            "flex_flow": null,
            "grid_area": null,
            "grid_auto_columns": null,
            "grid_auto_flow": null,
            "grid_auto_rows": null,
            "grid_column": null,
            "grid_gap": null,
            "grid_row": null,
            "grid_template_areas": null,
            "grid_template_columns": null,
            "grid_template_rows": null,
            "height": null,
            "justify_content": null,
            "justify_items": null,
            "left": null,
            "margin": null,
            "max_height": null,
            "max_width": null,
            "min_height": null,
            "min_width": null,
            "object_fit": null,
            "object_position": null,
            "order": null,
            "overflow": null,
            "overflow_x": null,
            "overflow_y": null,
            "padding": null,
            "right": null,
            "top": null,
            "visibility": null,
            "width": null
          }
        },
        "609fdeda9e0845b185f2d979d348f9d6": {
          "model_module": "@jupyter-widgets/controls",
          "model_name": "DescriptionStyleModel",
          "model_module_version": "1.5.0",
          "state": {
            "_model_module": "@jupyter-widgets/controls",
            "_model_module_version": "1.5.0",
            "_model_name": "DescriptionStyleModel",
            "_view_count": null,
            "_view_module": "@jupyter-widgets/base",
            "_view_module_version": "1.2.0",
            "_view_name": "StyleView",
            "description_width": ""
          }
        }
      }
    }
  },
  "nbformat": 4,
  "nbformat_minor": 0
}