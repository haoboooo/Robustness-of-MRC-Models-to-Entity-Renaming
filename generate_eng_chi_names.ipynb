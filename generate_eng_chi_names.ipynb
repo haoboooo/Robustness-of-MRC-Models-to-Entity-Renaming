{
  "nbformat": 4,
  "nbformat_minor": 0,
  "metadata": {
    "colab": {
      "name": "generate_eng_chi_names.ipynb",
      "provenance": [],
      "collapsed_sections": [],
      "authorship_tag": "ABX9TyO01hrISjC6k1sYLyIZnnQN",
      "include_colab_link": true
    },
    "kernelspec": {
      "name": "python3",
      "display_name": "Python 3"
    },
    "language_info": {
      "name": "python"
    }
  },
  "cells": [
    {
      "cell_type": "markdown",
      "metadata": {
        "id": "view-in-github",
        "colab_type": "text"
      },
      "source": [
        "<a href=\"https://colab.research.google.com/github/haoboooo/Robustness-of-MRC-Models-to-Entity-Renaming/blob/main/generate_eng_chi_names.ipynb\" target=\"_parent\"><img src=\"https://colab.research.google.com/assets/colab-badge.svg\" alt=\"Open In Colab\"/></a>"
      ]
    },
    {
      "cell_type": "code",
      "source": [
        "from google.colab import drive\n",
        "drive.mount('/content/drive')"
      ],
      "metadata": {
        "colab": {
          "base_uri": "https://localhost:8080/"
        },
        "id": "4DRjeG2EI_PO",
        "outputId": "7333c716-1794-4898-b930-f2cebf5cfd1f"
      },
      "execution_count": 36,
      "outputs": [
        {
          "output_type": "stream",
          "name": "stdout",
          "text": [
            "Drive already mounted at /content/drive; to attempt to forcibly remount, call drive.mount(\"/content/drive\", force_remount=True).\n"
          ]
        }
      ]
    },
    {
      "cell_type": "code",
      "execution_count": 37,
      "metadata": {
        "colab": {
          "base_uri": "https://localhost:8080/"
        },
        "id": "0QLFYrs3PZLb",
        "outputId": "87ac53b7-a11f-490c-906b-f98badf64087"
      },
      "outputs": [
        {
          "output_type": "stream",
          "name": "stdout",
          "text": [
            "Requirement already satisfied: names-dataset in /usr/local/lib/python3.7/dist-packages (3.0.2)\n",
            "Requirement already satisfied: pycountry in /usr/local/lib/python3.7/dist-packages (from names-dataset) (22.3.5)\n",
            "Requirement already satisfied: setuptools in /usr/local/lib/python3.7/dist-packages (from pycountry->names-dataset) (57.4.0)\n"
          ]
        }
      ],
      "source": [
        "!pip install names-dataset"
      ]
    },
    {
      "cell_type": "code",
      "source": [
        "from names_dataset import NameDataset\n",
        "import random\n",
        "import json"
      ],
      "metadata": {
        "id": "bS_ondXbPgo_"
      },
      "execution_count": 38,
      "outputs": []
    },
    {
      "cell_type": "code",
      "source": [
        "nd = NameDataset()\n",
        "print(nd.get_top_names(n=5, gender='Male', country_alpha2='US')) # n: number of the most popular names, country_alpha2: filters on country\n",
        "print(nd.get_top_names(n=5, country_alpha2='CN'))\n",
        "print(nd.get_country_codes(alpha_2=True)) # alpha_2: only return 2 char code\n",
        "print(nd.get_top_names(n=5,country_alpha2='US',use_first_names=False))"
      ],
      "metadata": {
        "colab": {
          "base_uri": "https://localhost:8080/"
        },
        "id": "hLP0LdsHQPPR",
        "outputId": "62418f8b-ec67-40b6-d0e9-7d23475098ea"
      },
      "execution_count": 39,
      "outputs": [
        {
          "output_type": "stream",
          "name": "stdout",
          "text": [
            "{'US': {'M': ['Jose', 'David', 'Michael', 'John', 'Juan']}}\n",
            "{'CN': {'F': ['Li', 'Chen', 'Lily', 'Yu', 'Lin'], 'M': ['Jason', 'Wang', 'Zhang', 'Yang', 'Liu']}}\n",
            "['AE', 'AF', 'AL', 'AO', 'AR', 'AT', 'AZ', 'BD', 'BE', 'BF', 'BG', 'BH', 'BI', 'BN', 'BO', 'BR', 'BW', 'CA', 'CH', 'CL', 'CM', 'CN', 'CO', 'CR', 'CY', 'CZ', 'DE', 'DJ', 'DK', 'DZ', 'EC', 'EE', 'EG', 'ES', 'ET', 'FI', 'FJ', 'FR', 'GB', 'GE', 'GH', 'GR', 'GT', 'HK', 'HN', 'HR', 'HT', 'HU', 'ID', 'IE', 'IL', 'IN', 'IQ', 'IR', 'IS', 'IT', 'JM', 'JO', 'JP', 'KH', 'KR', 'KW', 'KZ', 'LB', 'LT', 'LU', 'LY', 'MA', 'MD', 'MO', 'MT', 'MU', 'MV', 'MX', 'MY', 'NA', 'NG', 'NL', 'NO', 'OM', 'PA', 'PE', 'PH', 'PL', 'PR', 'PS', 'PT', 'QA', 'RS', 'RU', 'SA', 'SD', 'SE', 'SG', 'SI', 'SV', 'SY', 'TM', 'TN', 'TR', 'TW', 'US', 'UY', 'YE', 'ZA']\n",
            "{'US': ['Garcia', 'Hernandez', 'Rodriguez', 'Lopez', 'Martinez']}\n"
          ]
        }
      ]
    },
    {
      "cell_type": "code",
      "source": [
        "# to generate 5000 male english names, 5000 female english names"
      ],
      "metadata": {
        "id": "7_4aD8CLJWxb"
      },
      "execution_count": 40,
      "outputs": []
    },
    {
      "cell_type": "code",
      "source": [
        "eng_last = nd.get_top_names(n=5000,country_alpha2='US',use_first_names=False)\n",
        "eng_last_names = eng_last[\"US\"]\n",
        "\n",
        "eng_first = nd.get_top_names(n=5000,country_alpha2='US',use_first_names=True)\n",
        "eng_first_names = eng_first[\"US\"]\n",
        "eng_first_m = eng_first_names[\"M\"]\n",
        "eng_first_f = eng_first_names[\"F\"]"
      ],
      "metadata": {
        "id": "13H5hsiLROj-"
      },
      "execution_count": 41,
      "outputs": []
    },
    {
      "cell_type": "code",
      "source": [
        "english_male = []\n",
        "english_female = []\n",
        "\n",
        "for i in range(5000): # generate 5000 male/female names randomly\n",
        "  length1 = len(eng_last_names)\n",
        "  length2 = len(eng_first_m)\n",
        "  length3 = len(eng_first_f)\n",
        "\n",
        "  m_lastid = random.randint(0, length1-1)\n",
        "  f_lastid = random.randint(0, length1-1)\n",
        "  m_firstid = random.randint(0, length2-1)\n",
        "  f_firstid = random.randint(0, length3-1)\n",
        "\n",
        "  m_lastname = eng_last_names[m_lastid]\n",
        "  f_lastname = eng_last_names[f_lastid]\n",
        "  m_firstname = eng_first_m[m_firstid]\n",
        "  f_firstname = eng_first_f[f_firstid]\n",
        "\n",
        "  malename = str(m_firstname)+\" \"+str(m_lastname)\n",
        "  femalename = str(f_firstname)+\" \"+str(f_lastname)\n",
        "\n",
        "  english_male.append(malename)\n",
        "  english_female.append(femalename)"
      ],
      "metadata": {
        "id": "zteBEBrnKZth"
      },
      "execution_count": 42,
      "outputs": []
    },
    {
      "cell_type": "code",
      "source": [
        "english__dic = {}\n",
        "english__dic[\"M\"] = english_male\n",
        "english__dic[\"F\"] = english_female\n",
        "print(english__dic)\n",
        "\n",
        "file = './drive/MyDrive/Colab Notebooks/544_project/English_names.json'\n",
        "json.dump(english__dic,open(file,'w'),indent=4)"
      ],
      "metadata": {
        "id": "CrPKA3xuPoCd"
      },
      "execution_count": null,
      "outputs": []
    },
    {
      "cell_type": "code",
      "source": [
        "# to generate 5000 male english names, 5000 female Chinese names"
      ],
      "metadata": {
        "id": "aoCuF5vzO5KS"
      },
      "execution_count": 44,
      "outputs": []
    },
    {
      "cell_type": "code",
      "source": [
        "chi_last = nd.get_top_names(n=5000,country_alpha2='CN',use_first_names=False)\n",
        "chi_last_names = chi_last[\"CN\"]\n",
        "\n",
        "chi_first = nd.get_top_names(n=5000,country_alpha2='CN',use_first_names=True)\n",
        "chi_first_names =chi_first[\"CN\"]\n",
        "chi_first_m = chi_first_names[\"M\"]\n",
        "chi_first_f = chi_first_names[\"F\"]"
      ],
      "metadata": {
        "id": "c_cFlK9XS8gt"
      },
      "execution_count": 45,
      "outputs": []
    },
    {
      "cell_type": "code",
      "source": [
        "chinese_male = []\n",
        "chinese_female = []\n",
        "\n",
        "for i in range(5000): # generate 5000 male/female names randomly\n",
        "  length1 = len(chi_last_names)\n",
        "  length2 = len(chi_first_m)\n",
        "  length3 = len(chi_first_f)\n",
        "\n",
        "  m_lastid = random.randint(0, length1-1)\n",
        "  f_lastid = random.randint(0, length1-1)\n",
        "  m_firstid = random.randint(0, length2-1)\n",
        "  f_firstid = random.randint(0, length3-1)\n",
        "\n",
        "  m_lastname = chi_last_names[m_lastid]\n",
        "  f_lastname = chi_last_names[f_lastid]\n",
        "  m_firstname = chi_first_m[m_firstid]\n",
        "  f_firstname = chi_first_f[f_firstid]\n",
        "\n",
        "  malename = str(m_firstname)+\" \"+str(m_lastname)\n",
        "  femalename = str(f_firstname)+\" \"+str(f_lastname)\n",
        "\n",
        "  chinese_male.append(malename)\n",
        "  chinese_female.append(femalename)"
      ],
      "metadata": {
        "id": "M5QjyK9QTxKu"
      },
      "execution_count": 46,
      "outputs": []
    },
    {
      "cell_type": "code",
      "source": [
        "chinese__dic = {}\n",
        "chinese__dic[\"M\"] = chinese_male\n",
        "chinese__dic[\"F\"] = chinese_female\n",
        "print(chinese__dic)\n",
        "\n",
        "file2 = './drive/MyDrive/Colab Notebooks/544_project/Chinese_names.json'\n",
        "json.dump(chinese__dic,open(file2,'w'),indent=4)"
      ],
      "metadata": {
        "id": "8VwtuTqwUCJK"
      },
      "execution_count": null,
      "outputs": []
    },
    {
      "cell_type": "code",
      "source": [
        ""
      ],
      "metadata": {
        "id": "l422okC8UUgu"
      },
      "execution_count": null,
      "outputs": []
    }
  ]
}