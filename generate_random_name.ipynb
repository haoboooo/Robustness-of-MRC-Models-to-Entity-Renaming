{
  "cells": [
    {
      "cell_type": "markdown",
      "metadata": {
        "id": "view-in-github",
        "colab_type": "text"
      },
      "source": [
        "<a href=\"https://colab.research.google.com/github/haoboooo/Robustness-of-MRC-Models-to-Entity-Renaming/blob/main/generate_random_name.ipynb\" target=\"_parent\"><img src=\"https://colab.research.google.com/assets/colab-badge.svg\" alt=\"Open In Colab\"/></a>"
      ]
    },
    {
      "cell_type": "code",
      "source": [
        "from google.colab import drive\n",
        "drive.mount('/content/drive')"
      ],
      "metadata": {
        "colab": {
          "base_uri": "https://localhost:8080/"
        },
        "id": "7b2eI56Y-7nV",
        "outputId": "23c17dca-e87c-4533-80ff-8e5134f88710"
      },
      "id": "7b2eI56Y-7nV",
      "execution_count": 19,
      "outputs": [
        {
          "output_type": "stream",
          "name": "stdout",
          "text": [
            "Drive already mounted at /content/drive; to attempt to forcibly remount, call drive.mount(\"/content/drive\", force_remount=True).\n"
          ]
        }
      ]
    },
    {
      "cell_type": "code",
      "source": [
        "!pip install random-word # please pay attention to the name \"random-word\""
      ],
      "metadata": {
        "colab": {
          "base_uri": "https://localhost:8080/"
        },
        "id": "ANcZN2cO_bpt",
        "outputId": "2d8c71c5-dc3b-4e3d-e46d-732f4bbbe89f"
      },
      "id": "ANcZN2cO_bpt",
      "execution_count": 20,
      "outputs": [
        {
          "output_type": "stream",
          "name": "stdout",
          "text": [
            "Requirement already satisfied: random-word in /usr/local/lib/python3.7/dist-packages (1.0.7)\n",
            "Requirement already satisfied: nose in /usr/local/lib/python3.7/dist-packages (from random-word) (1.3.7)\n",
            "Requirement already satisfied: requests in /usr/local/lib/python3.7/dist-packages (from random-word) (2.23.0)\n",
            "Requirement already satisfied: urllib3!=1.25.0,!=1.25.1,<1.26,>=1.21.1 in /usr/local/lib/python3.7/dist-packages (from requests->random-word) (1.24.3)\n",
            "Requirement already satisfied: chardet<4,>=3.0.2 in /usr/local/lib/python3.7/dist-packages (from requests->random-word) (3.0.4)\n",
            "Requirement already satisfied: certifi>=2017.4.17 in /usr/local/lib/python3.7/dist-packages (from requests->random-word) (2021.10.8)\n",
            "Requirement already satisfied: idna<3,>=2.5 in /usr/local/lib/python3.7/dist-packages (from requests->random-word) (2.10)\n"
          ]
        }
      ]
    },
    {
      "cell_type": "code",
      "execution_count": 21,
      "id": "f39d4715",
      "metadata": {
        "id": "f39d4715"
      },
      "outputs": [],
      "source": [
        "import random\n",
        "from random_word import RandomWords\n",
        "\n",
        "r = RandomWords()\n",
        "\n",
        "# # Return a single random word\n",
        "# r.get_random_word()\n",
        "# # Return list of Random words\n",
        "# r.get_random_words()\n",
        "# # Return Word of the day\n",
        "# r.word_of_the_day()\n"
      ]
    },
    {
      "cell_type": "code",
      "source": [
        "f = open(\"./drive/MyDrive/Colab Notebooks/544_project/random_name_list.txt\", \"w\")"
      ],
      "metadata": {
        "id": "hp8K-AG__shi"
      },
      "id": "hp8K-AG__shi",
      "execution_count": 22,
      "outputs": []
    },
    {
      "cell_type": "code",
      "execution_count": null,
      "id": "2949db3e",
      "metadata": {
        "id": "2949db3e"
      },
      "outputs": [],
      "source": [
        "for i in range(10000):\n",
        "    first_name = r.get_random_word()\n",
        "    last_name = r.get_random_word()\n",
        "    print(first_name,last_name)\n",
        "    chars_first = [char for char in first_name]\n",
        "    chars_last = [char for char in last_name]\n",
        "    # print(chars_first)\n",
        "    random.shuffle(chars_first)\n",
        "    random.shuffle(chars_last)\n",
        "    first_name = \"\".join(chars_first)\n",
        "    last_name = \"\".join(chars_last)\n",
        "    \n",
        "    name = first_name + \" \" + last_name\n",
        "    f.write(name + \"\\n\")\n",
        "    \n",
        "\n",
        "f.close()"
      ]
    },
    {
      "cell_type": "code",
      "source": [
        ""
      ],
      "metadata": {
        "id": "52nLzbqHA7jo"
      },
      "id": "52nLzbqHA7jo",
      "execution_count": null,
      "outputs": []
    }
  ],
  "metadata": {
    "kernelspec": {
      "display_name": "Python 3 (ipykernel)",
      "language": "python",
      "name": "python3"
    },
    "language_info": {
      "codemirror_mode": {
        "name": "ipython",
        "version": 3
      },
      "file_extension": ".py",
      "mimetype": "text/x-python",
      "name": "python",
      "nbconvert_exporter": "python",
      "pygments_lexer": "ipython3",
      "version": "3.7.9"
    },
    "colab": {
      "name": "generate_random_name.ipynb",
      "provenance": [],
      "collapsed_sections": [],
      "include_colab_link": true
    }
  },
  "nbformat": 4,
  "nbformat_minor": 5
}