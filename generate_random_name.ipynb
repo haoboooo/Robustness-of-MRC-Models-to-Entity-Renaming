{
  "cells": [
    {
      "cell_type": "markdown",
      "metadata": {
        "id": "view-in-github",
        "colab_type": "text"
      },
      "source": [
        "<a href=\"https://colab.research.google.com/github/haoboooo/Robustness-of-MRC-Models-to-Entity-Renaming/blob/main/generate_random_name.ipynb\" target=\"_parent\"><img src=\"https://colab.research.google.com/assets/colab-badge.svg\" alt=\"Open In Colab\"/></a>"
      ]
    },
    {
      "cell_type": "code",
      "source": [
        "from google.colab import drive\n",
        "drive.mount('/content/drive')"
      ],
      "metadata": {
        "colab": {
          "base_uri": "https://localhost:8080/"
        },
        "id": "7b2eI56Y-7nV",
        "outputId": "48fed1a1-3a51-4f06-b41f-743666b6f3e8"
      },
      "id": "7b2eI56Y-7nV",
      "execution_count": 43,
      "outputs": [
        {
          "output_type": "stream",
          "name": "stdout",
          "text": [
            "Drive already mounted at /content/drive; to attempt to forcibly remount, call drive.mount(\"/content/drive\", force_remount=True).\n"
          ]
        }
      ]
    },
    {
      "cell_type": "code",
      "source": [
        "!pip install RandomWords # please pay attention to the name \"random-word\""
      ],
      "metadata": {
        "colab": {
          "base_uri": "https://localhost:8080/"
        },
        "id": "ANcZN2cO_bpt",
        "outputId": "90948782-3ee7-44aa-ac70-4654ddcba48f"
      },
      "id": "ANcZN2cO_bpt",
      "execution_count": 44,
      "outputs": [
        {
          "output_type": "stream",
          "name": "stdout",
          "text": [
            "Requirement already satisfied: RandomWords in /usr/local/lib/python3.7/dist-packages (0.3.0)\n"
          ]
        }
      ]
    },
    {
      "cell_type": "code",
      "execution_count": 45,
      "id": "f39d4715",
      "metadata": {
        "id": "f39d4715"
      },
      "outputs": [],
      "source": [
        "import random\n",
        "from random_words import RandomWords\n",
        "import json\n",
        "\n",
        "r = RandomWords() # tutorial: https://randomwords.readthedocs.io/en/latest/how_to_use.html\n",
        "\n",
        "# # Return a single random word\n",
        "# r.get_random_word()\n",
        "# # Return list of Random words\n",
        "# r.get_random_words()\n",
        "# # Return Word of the day\n",
        "# r.word_of_the_day()\n"
      ]
    },
    {
      "cell_type": "code",
      "source": [
        "dir = \"./drive/MyDrive/Colab Notebooks/544_project/random_name_list.json\""
      ],
      "metadata": {
        "id": "hp8K-AG__shi"
      },
      "id": "hp8K-AG__shi",
      "execution_count": 46,
      "outputs": []
    },
    {
      "cell_type": "code",
      "source": [
        "length = 5000 # Param \"count\" must be less than 5450.\n",
        "first = r.random_words(count=length)\n",
        "last = r.random_words(count=length)\n",
        "print(len(first),len(last))"
      ],
      "metadata": {
        "colab": {
          "base_uri": "https://localhost:8080/"
        },
        "id": "MZoJA1lEIJzl",
        "outputId": "970ebda5-9f32-4804-b6b3-3b7787b2f95f"
      },
      "id": "MZoJA1lEIJzl",
      "execution_count": 58,
      "outputs": [
        {
          "output_type": "stream",
          "name": "stdout",
          "text": [
            "5000 5000\n"
          ]
        }
      ]
    },
    {
      "cell_type": "code",
      "execution_count": 59,
      "id": "2949db3e",
      "metadata": {
        "id": "2949db3e"
      },
      "outputs": [],
      "source": [
        "random_name = []\n",
        "for i in range(length):\n",
        "  w1 = first[i]\n",
        "  w2 = last[i]\n",
        "  chars_first = [char for char in w1]\n",
        "  chars_last = [char for char in w2]\n",
        "  random.shuffle(chars_first)\n",
        "  random.shuffle(chars_last)\n",
        "\n",
        "  first_name = \"\".join(chars_first)\n",
        "  last_name = \"\".join(chars_last)\n",
        "\n",
        "  name = first_name + \" \" + last_name\n",
        "  random_name.append(name)"
      ]
    },
    {
      "cell_type": "code",
      "source": [
        "print(len(random_name))\n",
        "print(random_name[:5])"
      ],
      "metadata": {
        "id": "52nLzbqHA7jo",
        "colab": {
          "base_uri": "https://localhost:8080/"
        },
        "outputId": "b5cdea57-7419-4ff8-875b-1113c7b72f03"
      },
      "id": "52nLzbqHA7jo",
      "execution_count": 61,
      "outputs": [
        {
          "output_type": "stream",
          "name": "stdout",
          "text": [
            "5000\n",
            "['rangwni eatnrniotci', 'vinsgas ficeelunn', 'acjks eienstr', 'awnietelr bnvereom', 'lafe msrcanoy']\n"
          ]
        }
      ]
    },
    {
      "cell_type": "code",
      "source": [
        "random = {}\n",
        "random[\"name\"] = random_name\n",
        "json.dump(random,open(dir,'w'),ensure_ascii=False,indent=4)"
      ],
      "metadata": {
        "id": "6yRfhePk_IMM"
      },
      "id": "6yRfhePk_IMM",
      "execution_count": 62,
      "outputs": []
    },
    {
      "cell_type": "code",
      "source": [
        ""
      ],
      "metadata": {
        "id": "HXLn6vNhLtMz"
      },
      "id": "HXLn6vNhLtMz",
      "execution_count": null,
      "outputs": []
    }
  ],
  "metadata": {
    "kernelspec": {
      "display_name": "Python 3 (ipykernel)",
      "language": "python",
      "name": "python3"
    },
    "language_info": {
      "codemirror_mode": {
        "name": "ipython",
        "version": 3
      },
      "file_extension": ".py",
      "mimetype": "text/x-python",
      "name": "python",
      "nbconvert_exporter": "python",
      "pygments_lexer": "ipython3",
      "version": "3.7.9"
    },
    "colab": {
      "name": "generate_random_name.ipynb",
      "provenance": [],
      "collapsed_sections": [],
      "include_colab_link": true
    }
  },
  "nbformat": 4,
  "nbformat_minor": 5
}